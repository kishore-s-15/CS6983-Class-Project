{
 "cells": [
  {
   "cell_type": "code",
   "execution_count": 7,
   "id": "3fb69813-31d7-47bb-88d2-c981d11d81d1",
   "metadata": {},
   "outputs": [
    {
     "name": "stdout",
     "output_type": "stream",
     "text": [
      "/shared/centos7/anaconda3/2022.05/bin/python3\n"
     ]
    }
   ],
   "source": [
    "!which python3"
   ]
  },
  {
   "cell_type": "code",
   "execution_count": 3,
   "id": "cdceb85c-cfae-4ce5-94d2-f06b06df8530",
   "metadata": {},
   "outputs": [
    {
     "ename": "ModuleNotFoundError",
     "evalue": "No module named 'spacy'",
     "output_type": "error",
     "traceback": [
      "\u001b[0;31m---------------------------------------------------------------------------\u001b[0m",
      "\u001b[0;31mModuleNotFoundError\u001b[0m                       Traceback (most recent call last)",
      "Input \u001b[0;32mIn [3]\u001b[0m, in \u001b[0;36m<cell line: 8>\u001b[0;34m()\u001b[0m\n\u001b[1;32m      5\u001b[0m \u001b[38;5;28;01mfrom\u001b[39;00m \u001b[38;5;21;01mpathlib\u001b[39;00m \u001b[38;5;28;01mimport\u001b[39;00m Path\n\u001b[1;32m      6\u001b[0m \u001b[38;5;28;01mfrom\u001b[39;00m \u001b[38;5;21;01mcollections\u001b[39;00m \u001b[38;5;28;01mimport\u001b[39;00m defaultdict\n\u001b[0;32m----> 8\u001b[0m \u001b[38;5;28;01mimport\u001b[39;00m \u001b[38;5;21;01mspacy\u001b[39;00m\n\u001b[1;32m      9\u001b[0m \u001b[38;5;28;01mimport\u001b[39;00m \u001b[38;5;21;01mevaluate\u001b[39;00m\n\u001b[1;32m     10\u001b[0m \u001b[38;5;28;01mimport\u001b[39;00m \u001b[38;5;21;01mnumpy\u001b[39;00m \u001b[38;5;28;01mas\u001b[39;00m \u001b[38;5;21;01mnp\u001b[39;00m\n",
      "\u001b[0;31mModuleNotFoundError\u001b[0m: No module named 'spacy'"
     ]
    }
   ],
   "source": [
    "# Importing the required libraries\n",
    "\n",
    "import os\n",
    "from glob import glob\n",
    "from pathlib import Path\n",
    "from collections import defaultdict\n",
    "\n",
    "import spacy\n",
    "import evaluate\n",
    "import numpy as np\n",
    "import pandas as pd\n",
    "from tqdm import tqdm\n",
    "\n",
    "from src.full_model.train_full_model import get_tokenizer\n",
    "from src.full_model.generate_reports_for_images import get_model\n",
    "from src.full_model.generate_reports_for_images import get_image_tensor\n",
    "from src.full_model.generate_reports_for_images import get_report_for_image\n",
    "from src.full_model.generate_reports_for_images import write_generated_reports_to_txt"
   ]
  },
  {
   "cell_type": "code",
   "execution_count": 2,
   "id": "66b1e452-3182-472d-8d6e-9a594fb09eca",
   "metadata": {},
   "outputs": [
    {
     "data": {
      "text/plain": [
       "PosixPath('/home/kishoresampath/report-gen-project/data/mimic-eye-integrating-mimic-datasets-with-reflacx-and-eye-gaze-for-multimodal-deep-learning-applications-1.0.0/mimic-eye')"
      ]
     },
     "execution_count": 2,
     "metadata": {},
     "output_type": "execute_result"
    }
   ],
   "source": [
    "# DATA URLs\n",
    "\n",
    "BASE_DIR = Path().cwd()\n",
    "DATA_DIR = (\n",
    "    BASE_DIR.parent / \"data\" /\n",
    "    \"mimic-eye-integrating-mimic-datasets-with-reflacx-and-eye-gaze-for-multimodal-deep-learning-applications-1.0.0\" /\n",
    "    \"mimic-eye\"\n",
    ")\n",
    "DATA_DIR"
   ]
  },
  {
   "cell_type": "code",
   "execution_count": 3,
   "id": "16cfd8d4-26db-4ca9-88d0-83a115862553",
   "metadata": {},
   "outputs": [
    {
     "data": {
      "text/plain": [
       "3192"
      ]
     },
     "execution_count": 3,
     "metadata": {},
     "output_type": "execute_result"
    }
   ],
   "source": [
    "# Number of patient folders\n",
    "\n",
    "PATIENTS_DIR = DATA_DIR / \"patient_*\"\n",
    "patient_folders = glob(str(PATIENTS_DIR))\n",
    "\n",
    "len(patient_folders)"
   ]
  },
  {
   "cell_type": "code",
   "execution_count": 4,
   "id": "cc94d1b3-80be-4ab9-ae2e-10e32f4be11a",
   "metadata": {},
   "outputs": [
    {
     "data": {
      "text/plain": [
       "3645"
      ]
     },
     "execution_count": 4,
     "metadata": {},
     "output_type": "execute_result"
    }
   ],
   "source": [
    "# Number of X-ray reports\n",
    "\n",
    "CXR_DICOM_DIR = DATA_DIR / \"patient_*\" / \"CXR-DICOM\"\n",
    "\n",
    "REFERENCE_REPORT_PATHS = glob(str(CXR_DICOM_DIR / \"*.txt\"))\n",
    "\n",
    "len(REFERENCE_REPORT_PATHS)"
   ]
  },
  {
   "cell_type": "code",
   "execution_count": 5,
   "id": "ca0e83db-9c24-4793-96a3-4c8bb486c10d",
   "metadata": {},
   "outputs": [
    {
     "name": "stderr",
     "output_type": "stream",
     "text": [
      "100%|██████████████████████████████████████| 3645/3645 [00:08<00:00, 431.56it/s]\n"
     ]
    },
    {
     "data": {
      "text/plain": [
       "3689"
      ]
     },
     "execution_count": 5,
     "metadata": {},
     "output_type": "execute_result"
    }
   ],
   "source": [
    "IMAGE_PATHS = []\n",
    "\n",
    "for ref_report_path in tqdm(REFERENCE_REPORT_PATHS):\n",
    "    patient_id = ref_report_path.split(\"/\")[-3].split(\"_\")[-1]\n",
    "    xray_id = ref_report_path.split(\"/\")[-1].split(\".\")[0]\n",
    "\n",
    "    meta_file_url = DATA_DIR / f\"patient_{patient_id}\" / \"CXR-JPG\" / \"cxr_meta.csv\"\n",
    "    \n",
    "    df = pd.read_csv(meta_file_url)\n",
    "    studied_xrays = set(df[\"dicom_id\"].values)\n",
    "\n",
    "    study_xray_images = glob(str(DATA_DIR / f\"patient_{patient_id}\" / \"CXR-JPG\" / xray_id / \"*.jpg\"))\n",
    "\n",
    "    for xray_image in study_xray_images:\n",
    "        image_id = xray_image.split(\"/\")[-1].split(\".\")[0]\n",
    "        \n",
    "        if image_id in studied_xrays:\n",
    "            IMAGE_PATHS.append(xray_image)\n",
    "    \n",
    "len(IMAGE_PATHS)"
   ]
  },
  {
   "cell_type": "code",
   "execution_count": 6,
   "id": "f7b8fb53-4166-449e-893b-bf9e94bd7d1d",
   "metadata": {},
   "outputs": [
    {
     "data": {
      "text/plain": [
       "3645"
      ]
     },
     "execution_count": 6,
     "metadata": {},
     "output_type": "execute_result"
    }
   ],
   "source": [
    "cnt = set()\n",
    "\n",
    "patient_ids = []\n",
    "\n",
    "for img_path in IMAGE_PATHS:\n",
    "    study_id = img_path.split(\"/\")[-2]\n",
    "\n",
    "    if study_id in cnt:\n",
    "        patient_id = img_path.split(\"/\")[-4].split(\"_\")[1]\n",
    "        patient_ids.append(patient_id)\n",
    "    \n",
    "    cnt.add(study_id)\n",
    "\n",
    "len(cnt)"
   ]
  },
  {
   "cell_type": "code",
   "execution_count": 7,
   "id": "f439fb34-94ea-4bf9-bdc2-cfaea47098ce",
   "metadata": {},
   "outputs": [
    {
     "data": {
      "text/plain": [
       "['10896351',\n",
       " '15710368',\n",
       " '19298963',\n",
       " '15165193',\n",
       " '11110923',\n",
       " '16603694',\n",
       " '13739802',\n",
       " '18426683',\n",
       " '15945590',\n",
       " '18962500',\n",
       " '11580463',\n",
       " '11580463',\n",
       " '10490475',\n",
       " '16538543',\n",
       " '18505436',\n",
       " '19371566',\n",
       " '13554447',\n",
       " '10129815',\n",
       " '19381010',\n",
       " '13537167',\n",
       " '13186935',\n",
       " '19808040',\n",
       " '14584470',\n",
       " '12008763',\n",
       " '19693764',\n",
       " '10533101',\n",
       " '12058581',\n",
       " '15325060',\n",
       " '14247006',\n",
       " '13707073',\n",
       " '13306384',\n",
       " '11482871',\n",
       " '16239007',\n",
       " '18065146',\n",
       " '17862049',\n",
       " '17350587',\n",
       " '11878216',\n",
       " '19541033',\n",
       " '10850680',\n",
       " '19391089',\n",
       " '18043096',\n",
       " '16168308',\n",
       " '13528989',\n",
       " '11609895']"
      ]
     },
     "execution_count": 7,
     "metadata": {},
     "output_type": "execute_result"
    }
   ],
   "source": [
    "patient_ids"
   ]
  },
  {
   "cell_type": "code",
   "execution_count": 8,
   "id": "9941a1cb-3f89-4559-adbb-33df4735bd38",
   "metadata": {},
   "outputs": [],
   "source": [
    "# Value counts of number of reports per patient\n",
    "\n",
    "xray_report_counts = defaultdict(int)\n",
    "\n",
    "for ref_file_path in REFERENCE_REPORT_PATHS:\n",
    "    patient_id = ref_file_path.split(\"/\")[-3].split(\"_\")[-1]\n",
    "    xray_report_counts[patient_id] += 1"
   ]
  },
  {
   "cell_type": "code",
   "execution_count": 9,
   "id": "cea74ae4-93d7-486e-ae08-ba6317f54559",
   "metadata": {},
   "outputs": [],
   "source": [
    "values, counts = np.unique(list(xray_report_counts.values()), return_counts=True)"
   ]
  },
  {
   "cell_type": "code",
   "execution_count": 10,
   "id": "c2b1bc3f-7c4c-4450-a5a0-b10e692d30ac",
   "metadata": {},
   "outputs": [
    {
     "data": {
      "text/plain": [
       "[(1, 2970),\n",
       " (2, 157),\n",
       " (3, 17),\n",
       " (4, 13),\n",
       " (5, 8),\n",
       " (6, 9),\n",
       " (7, 8),\n",
       " (8, 4),\n",
       " (9, 2),\n",
       " (12, 2),\n",
       " (14, 1),\n",
       " (20, 1)]"
      ]
     },
     "execution_count": 10,
     "metadata": {},
     "output_type": "execute_result"
    }
   ],
   "source": [
    "list(zip(list(values), list(counts)))"
   ]
  },
  {
   "cell_type": "code",
   "execution_count": 11,
   "id": "1cd82d1e-b9e4-4353-9827-96d245428fc2",
   "metadata": {},
   "outputs": [
    {
     "name": "stdout",
     "output_type": "stream",
     "text": [
      "Model instantiated.\n"
     ]
    }
   ],
   "source": [
    "checkpoint_path = \"full_model_checkpoint_val_loss_19.793_overall_steps_155252.pt\"\n",
    "model = get_model(checkpoint_path)\n",
    "print(\"Model instantiated.\")"
   ]
  },
  {
   "cell_type": "code",
   "execution_count": 12,
   "id": "d644ab29-433d-4aea-a9fb-5a0ce7713e00",
   "metadata": {},
   "outputs": [
    {
     "name": "stderr",
     "output_type": "stream",
     "text": [
      "/home/kishoresampath/report-gen-project/rgrg-main/env/lib/python3.10/site-packages/spacy/util.py:910: UserWarning: [W095] Model 'en_core_web_trf' (3.4.0) was trained with spaCy v3.4.0 and may not be 100% compatible with the current version (3.7.4). If you see errors or degraded performance, download a newer compatible model or retrain your custom model with the current spaCy version. For more details and available updates, run: python -m spacy validate\n",
      "  warnings.warn(warn_msg)\n"
     ]
    }
   ],
   "source": [
    "bert_score = evaluate.load(\"bertscore\")\n",
    "sentence_tokenizer = spacy.load(\"en_core_web_trf\")\n",
    "tokenizer = get_tokenizer()"
   ]
  },
  {
   "cell_type": "code",
   "execution_count": 13,
   "id": "9ce00c52-6a18-4f00-b7fa-6780fe3d1244",
   "metadata": {},
   "outputs": [
    {
     "data": {
      "text/plain": [
       "100"
      ]
     },
     "execution_count": 13,
     "metadata": {},
     "output_type": "execute_result"
    }
   ],
   "source": [
    "random_image_paths = np.random.choice(IMAGE_PATHS, size=100, replace=False)\n",
    "len(random_image_paths)"
   ]
  },
  {
   "cell_type": "code",
   "execution_count": 23,
   "id": "a0065ede-65dd-4eb8-9187-83dcc233f85a",
   "metadata": {},
   "outputs": [],
   "source": [
    "import torch\n",
    "\n",
    "from src.full_model.generate_reports_for_images import convert_generated_sentences_to_report\n",
    "\n",
    "device = torch.device(\"cuda\" if torch.cuda.is_available() else \"cpu\")\n",
    "\n",
    "BERTSCORE_SIMILARITY_THRESHOLD = 0.9\n",
    "IMAGE_INPUT_SIZE = 512\n",
    "MAX_NUM_TOKENS_GENERATE = 300\n",
    "NUM_BEAMS = 4\n",
    "mean = 0.471  # see get_transforms in src/dataset/compute_mean_std_dataset.py\n",
    "std = 0.302\n",
    "\n",
    "def get_report_for_images(model, images_tensor, tokenizer, bert_score, sentence_tokenizer):\n",
    "    with torch.autocast(device_type=\"cuda\", dtype=torch.float16):\n",
    "        output = model.generate(\n",
    "            images_tensor.to(device, non_blocking=True),\n",
    "            max_length=MAX_NUM_TOKENS_GENERATE,\n",
    "            num_beams=NUM_BEAMS,\n",
    "            early_stopping=True,\n",
    "        )\n",
    "\n",
    "    beam_search_output, _, _, _ = output\n",
    "\n",
    "    beam_search_output = beam_search_output[:15, :]\n",
    "    print(beam_search_output.shape)\n",
    "\n",
    "    generated_sents_for_selected_regions = tokenizer.batch_decode(\n",
    "        beam_search_output, skip_special_tokens=True, clean_up_tokenization_spaces=True\n",
    "    )  # list[str]\n",
    "\n",
    "    generated_report = convert_generated_sentences_to_report(\n",
    "        generated_sents_for_selected_regions, bert_score, sentence_tokenizer\n",
    "    )  # str\n",
    "\n",
    "    return generated_report"
   ]
  },
  {
   "cell_type": "code",
   "execution_count": 24,
   "id": "bd13b60e-1ff7-4355-8c0e-13978190d13a",
   "metadata": {},
   "outputs": [],
   "source": [
    "# import shutil\n",
    "\n",
    "# for image_path in tqdm(random_image_paths):\n",
    "#     generated_reports = []\n",
    "    \n",
    "#     xray_id = image_path.split(\"/\")[-1].split(\".\")[0]\n",
    "#     patient_id = image_path.split(\"/\")[-4].split(\"_\")[1]\n",
    "#     generated_reports_txt_path = os.path.join(\"gen_reports\", f\"gen_{xray_id}.txt\")\n",
    "\n",
    "#     subject_id = image_path.split(\"/\")[-2]\n",
    "#     original_reports_txt_path = os.path.join(\"orig_reports\", f\"orig_{xray_id}.txt\")\n",
    "#     report_path = DATA_DIR / f\"patient_{patient_id}\" / \"CXR-DICOM\" / f\"{subject_id}.txt\"\n",
    "\n",
    "#     shutil.copy(report_path, original_reports_txt_path)\n",
    "    \n",
    "#     image_tensor = get_image_tensor(image_path)  # shape (1, 1, 512, 512)\n",
    "#     generated_report = get_report_for_images(model, image_tensor, tokenizer, bert_score, sentence_tokenizer)\n",
    "#     generated_reports.append(generated_report)\n",
    "\n",
    "#     write_generated_reports_to_txt([image_path], generated_reports, generated_reports_txt_path)\n",
    "\n",
    "#     break"
   ]
  },
  {
   "cell_type": "code",
   "execution_count": 25,
   "id": "b4a33102-dca6-48d4-9a65-276409620e11",
   "metadata": {},
   "outputs": [],
   "source": [
    "import cv2\n",
    "import albumentations as A\n",
    "from albumentations.pytorch import ToTensorV2\n",
    "\n",
    "\n",
    "def get_image_tensor(image_path):\n",
    "    # cv2.imread by default loads an image with 3 channels\n",
    "    # since we have grayscale images, we only have 1 channel and thus use cv2.IMREAD_UNCHANGED to read in the 1 channel\n",
    "    image = cv2.imread(image_path, cv2.IMREAD_UNCHANGED)  # shape (3056, 2544)\n",
    "\n",
    "    val_test_transforms = A.Compose(\n",
    "        [\n",
    "            A.LongestMaxSize(max_size=IMAGE_INPUT_SIZE, interpolation=cv2.INTER_AREA),\n",
    "            A.PadIfNeeded(min_height=IMAGE_INPUT_SIZE, min_width=IMAGE_INPUT_SIZE, border_mode=cv2.BORDER_CONSTANT),\n",
    "            A.Normalize(mean=mean, std=std),\n",
    "            ToTensorV2(),\n",
    "        ]\n",
    "    )\n",
    "\n",
    "    transform = val_test_transforms(image=image)\n",
    "    image_transformed = transform[\"image\"]  # shape (1, 512, 512)\n",
    "    # image_transformed_batch = image_transformed.unsqueeze(0)  # shape (1, 1, 512, 512)\n",
    "\n",
    "    return image_transformed"
   ]
  },
  {
   "cell_type": "code",
   "execution_count": null,
   "id": "75770786-e757-4d4d-8b80-0e7e39f75158",
   "metadata": {},
   "outputs": [
    {
     "name": "stderr",
     "output_type": "stream",
     "text": [
      " 30%|████████████▌                             | 30/100 [00:15<00:04, 15.76it/s]"
     ]
    }
   ],
   "source": [
    "import shutil\n",
    "\n",
    "BATCH_SIZE = 32\n",
    "\n",
    "size = 1\n",
    "images_tensor = []\n",
    "gen_file_paths = []\n",
    "orig_file_paths = []\n",
    "image_paths = []\n",
    "\n",
    "\n",
    "for image_path in tqdm(random_image_paths):\n",
    "    generated_reports = []\n",
    "    \n",
    "    xray_id = image_path.split(\"/\")[-1].split(\".\")[0]\n",
    "    patient_id = image_path.split(\"/\")[-4].split(\"_\")[1]\n",
    "    generated_reports_txt_path = os.path.join(\"gen_reports\", f\"gen_{xray_id}.txt\")\n",
    "\n",
    "    subject_id = image_path.split(\"/\")[-2]\n",
    "    original_reports_txt_path = os.path.join(\"orig_reports\", f\"orig_{xray_id}.txt\")\n",
    "    report_path = DATA_DIR / f\"patient_{patient_id}\" / \"CXR-DICOM\" / f\"{subject_id}.txt\"\n",
    "\n",
    "    shutil.copy(report_path, original_reports_txt_path)\n",
    "    \n",
    "    image_tensor = get_image_tensor(image_path)  # shape (1, 1, 512, 512)\n",
    "    images_tensor.append(image_tensor)\n",
    "\n",
    "    image_paths.append(image_path)\n",
    "    gen_file_paths.append(generated_reports_txt_path)\n",
    "    orig_file_paths.append(original_reports_txt_path)\n",
    "\n",
    "    if size == BATCH_SIZE:\n",
    "        images_tensor = torch.stack(images_tensor)\n",
    "        \n",
    "        generated_report = get_report_for_images(model, images_tensor, tokenizer, bert_score, sentence_tokenizer)\n",
    "        generated_reports.append(generated_report)\n",
    "    \n",
    "        write_generated_reports_to_txt(image_paths, generated_reports, gen_file_paths[-1])\n",
    "\n",
    "        size = 0\n",
    "        images_tensor = []\n",
    "        gen_file_paths = []\n",
    "        orig_file_paths = []\n",
    "        image_paths = []\n",
    "        \n",
    "        break\n",
    "\n",
    "    size += 1"
   ]
  },
  {
   "cell_type": "code",
   "execution_count": null,
   "id": "f2d091e7-f254-47a3-8c54-0061fe18b7b0",
   "metadata": {},
   "outputs": [],
   "source": [
    "def read_txt_file(file_path: str) -> str:\n",
    "    with open(file_path, \"r\") as file:\n",
    "        content = file.read()\n",
    "\n",
    "    sents = content.split(\"\\n\")\n",
    "    sents = list(map(lambda x: x.strip(), sents))\n",
    "\n",
    "    return sents"
   ]
  },
  {
   "cell_type": "code",
   "execution_count": 46,
   "id": "85905cb1-7a12-4372-9e94-f6ae1421738f",
   "metadata": {},
   "outputs": [],
   "source": [
    "def preprocess_reference(sents: list[str]) -> str:\n",
    "    def isHeader(sent: str) -> bool:\n",
    "        if sent == \"FINAL REPORT\":\n",
    "            return True\n",
    "\n",
    "    preprocessed_sents = []\n",
    "\n",
    "    for sent in sents:\n",
    "        if sent != '' and not isHeader(sent):\n",
    "            if ':' in sent:\n",
    "                sent = sent.split(\":\")[-1].strip()\n",
    "                \n",
    "            preprocessed_sents.append(sent)\n",
    "\n",
    "    return \" \".join(preprocessed_sents)"
   ]
  },
  {
   "cell_type": "code",
   "execution_count": 47,
   "id": "8b065d4f-be09-4c3a-aa9a-690750826c00",
   "metadata": {},
   "outputs": [
    {
     "data": {
      "text/plain": [
       "['FINAL REPORT',\n",
       " 'PORTABLE CHEST ___',\n",
       " '',\n",
       " 'COMPARISON:  Radiograph of one day earlier.',\n",
       " '',\n",
       " 'FINDINGS:  Right chest tube remains in place, with a small right apicolateral',\n",
       " 'pneumothorax, which is decreased in size since the recent radiograph.',\n",
       " 'Otherwise, little change in the appearance of the chest since the previous',\n",
       " 'study.',\n",
       " '']"
      ]
     },
     "execution_count": 47,
     "metadata": {},
     "output_type": "execute_result"
    }
   ],
   "source": [
    "file_path = os.path.join(\"orig_reports\", \"orig_034afc43-2fad16bb-0c7f7afd-78ac6a4f-b2a8e2e2.txt\")\n",
    "\n",
    "reference = read_txt_file(file_path)\n",
    "reference"
   ]
  },
  {
   "cell_type": "code",
   "execution_count": 48,
   "id": "bd232d11-daae-48c1-abc4-a0d35dd10130",
   "metadata": {},
   "outputs": [
    {
     "data": {
      "text/plain": [
       "'PORTABLE CHEST ___ Radiograph of one day earlier. Right chest tube remains in place, with a small right apicolateral pneumothorax, which is decreased in size since the recent radiograph. Otherwise, little change in the appearance of the chest since the previous study.'"
      ]
     },
     "execution_count": 48,
     "metadata": {},
     "output_type": "execute_result"
    }
   ],
   "source": [
    "reference = preprocess_reference(reference)\n",
    "reference"
   ]
  },
  {
   "cell_type": "code",
   "execution_count": 58,
   "id": "bd00e95f-2bf1-432f-b79b-3c0720a5db69",
   "metadata": {},
   "outputs": [],
   "source": [
    "def preprocess_prediction(sents: list[str]) -> str:\n",
    "    def isHeader(sent: str) -> bool:\n",
    "        if \"Image path:\" in sent or '=' in sent:\n",
    "            return True\n",
    "\n",
    "    preprocessed_sents = []\n",
    "\n",
    "    for sent in sents:\n",
    "        if sent != '' and not isHeader(sent):\n",
    "            if \"Generated report:\" in sent:\n",
    "                sent = sent.split(\":\")[-1].strip()\n",
    "                \n",
    "            preprocessed_sents.append(sent)\n",
    "\n",
    "    return \" \".join(preprocessed_sents)"
   ]
  },
  {
   "cell_type": "code",
   "execution_count": 59,
   "id": "eb5ac073-2fe8-48ea-97ef-2702b21165a7",
   "metadata": {},
   "outputs": [
    {
     "data": {
      "text/plain": [
       "['Image path: /home/kishoresampath/report-gen-project/data/mimic-eye-integrating-mimic-datasets-with-reflacx-and-eye-gaze-for-multimodal-deep-learning-applications-1.0.0/mimic-eye/patient_17478604/CXR-JPG/s55974954/034afc43-2fad16bb-0c7f7afd-78ac6a4f-b2a8e2e2.jpg',\n",
       " 'Generated report: In comparison with the study of ___, there is no change in the extent of the right pleural effusion or pneumothorax. Small right apical pneumothorax is unchanged. There is no pneumothorax or pleural effusion. Bibasilar atelectasis is unchanged. There is no pulmonary edema. The cardiomediastinal silhouette is normal. Heart size is normal. No free air below the right hemidiaphragm.',\n",
       " '',\n",
       " '==============================',\n",
       " '',\n",
       " '']"
      ]
     },
     "execution_count": 59,
     "metadata": {},
     "output_type": "execute_result"
    }
   ],
   "source": [
    "file_path = os.path.join(\"gen_reports\", \"gen_034afc43-2fad16bb-0c7f7afd-78ac6a4f-b2a8e2e2.txt\")\n",
    "\n",
    "prediction = read_txt_file(file_path)\n",
    "prediction"
   ]
  },
  {
   "cell_type": "code",
   "execution_count": 60,
   "id": "04e8b0cc-ab32-4ce9-ba7c-5f139922df0e",
   "metadata": {},
   "outputs": [
    {
     "data": {
      "text/plain": [
       "'In comparison with the study of ___, there is no change in the extent of the right pleural effusion or pneumothorax. Small right apical pneumothorax is unchanged. There is no pneumothorax or pleural effusion. Bibasilar atelectasis is unchanged. There is no pulmonary edema. The cardiomediastinal silhouette is normal. Heart size is normal. No free air below the right hemidiaphragm.'"
      ]
     },
     "execution_count": 60,
     "metadata": {},
     "output_type": "execute_result"
    }
   ],
   "source": [
    "prediction = preprocess_prediction(prediction)\n",
    "prediction"
   ]
  },
  {
   "cell_type": "code",
   "execution_count": 61,
   "id": "c89258cd-a3c0-4af0-b37c-54493c67ba67",
   "metadata": {},
   "outputs": [],
   "source": [
    "def get_reference(file_path: str) -> str:\n",
    "    reference = read_txt_file(file_path)\n",
    "    reference = preprocess_reference(reference)\n",
    "\n",
    "    return reference"
   ]
  },
  {
   "cell_type": "code",
   "execution_count": 62,
   "id": "e2f97612-722f-4575-a7cf-99ca2bb8d339",
   "metadata": {},
   "outputs": [],
   "source": [
    "def get_prediction(file_path: str) -> str:\n",
    "    prediction = read_txt_file(file_path)\n",
    "    prediction = preprocess_prediction(prediction)\n",
    "\n",
    "    return prediction"
   ]
  },
  {
   "cell_type": "code",
   "execution_count": 63,
   "id": "cd2d60a4-c14d-40df-9ff2-9c5036e0aa84",
   "metadata": {},
   "outputs": [
    {
     "data": {
      "text/plain": [
       "100"
      ]
     },
     "execution_count": 63,
     "metadata": {},
     "output_type": "execute_result"
    }
   ],
   "source": [
    "xray_ids = []\n",
    "\n",
    "for file_path in glob(str(Path().cwd() / \"gen_reports\" / \"gen_*.txt\")):\n",
    "    xray_ids.append(\n",
    "        file_path.split(\"/\")[-1].split(\".\")[0].split(\"_\")[1]\n",
    "    )\n",
    "\n",
    "len(xray_ids)"
   ]
  },
  {
   "cell_type": "code",
   "execution_count": 64,
   "id": "4a3b1957-0275-482f-8cc6-317d63631057",
   "metadata": {},
   "outputs": [],
   "source": [
    "references = []\n",
    "predictions = []\n",
    "\n",
    "for id in xray_ids:\n",
    "    ref_file_path = os.path.join(\"orig_reports\", f\"orig_{id}.txt\")\n",
    "    gen_file_path = os.path.join(\"gen_reports\", f\"gen_{id}.txt\")\n",
    "\n",
    "    reference = get_reference(ref_file_path)\n",
    "    prediction = get_prediction(gen_file_path)\n",
    "\n",
    "    references.append(reference)\n",
    "    predictions.append(prediction)"
   ]
  },
  {
   "cell_type": "code",
   "execution_count": 65,
   "id": "3f246851-6b1c-4ffe-9fcb-c2eb77f6aeb0",
   "metadata": {
    "scrolled": true
   },
   "outputs": [
    {
     "data": {
      "text/plain": [
       "['___ year old woman with positive PPD/TST and hx cough  // any sign of active or latent TB? Chest PA and lateral Radiograph from ___.  There is a granuloma projecting over the heart on the left.  Otherwise the lungs are well expanded and clear.  No pleural abnormality is seen.  The mediastinum and hilar contours are normal.  Heavily calcified thyroid nodule is again seen, unchanged from prior.  Cardiomegaly appear stable.  1. No acute cardiopulmonary abnormality or acute TB infection.  One calcified granuloma. 2. Cardiomegaly, stable.',\n",
       " '___-year-old male with chest pain. PA and lateral chest radiographs. ___. The heart size within normal limits.  The mediastinal contours are not widened and demonstrate a mildly tortuous aorta.  The lungs are clear of consolidation.  There is no pleural effusion or pneumothorax. No acute cardiopulmonary process.',\n",
       " '55 PM Nondisplaced right ___ and ___ lateral rib fractures.  Retrocardiac atelectasis.  No definite radiographic evidence for pneumonia. ______________________________________________________________________________ Fall with subdural hematoma. Semi-upright AP view of the chest. None.  Lung volumes are low.  The right hemidiaphragm is elevated and there is interposition of the colon between the diaphragm and the liver.  The heart size is normal.  The aorta is mildly unfolded.  The pulmonary vasculature is not engorged.  Minimal streaky opacity in the left retrocardiac region and likely reflects atelectasis.  No focal consolidation, pleural effusion or pneumothorax is present.  Nondisplaced fractures of the right ___ and ___ lateral ribs appear to be present.  Nondisplaced right ___ and ___ lateral rib fractures.  Retrocardiac atelectasis.  No definite radiographic evidence for pneumonia.',\n",
       " 'History of AFib with RVR.  Please evaluate. None. PA and lateral radiographs of the chest. The heart size is normal.  The hilar and mediastinal contours are normal.  The lungs are clear without evidence of focal consolidations concerning for pneumonia.  There is no large pleural effusion or pneumothorax. The visualized osseous structures are unremarkable. No focal consolidations concerning for pneumonia identified.',\n",
       " 'Frontal and lateral views ___ year old man with LVH on ECG, sob  // eval for cardiomegaly Frontal and Lateral None.  The lungs are clear without focal consolidation.  No pleural effusion or pneumothorax is seen. Heart size is normal.  Heart size is normal.',\n",
       " 'CHEST RADIOGRAPHS Cough, fever, and shortness of breath. ___. Chest, PA and lateral. The heart is mild to moderately enlarged.  The mediastinal and hilar contours appear unchanged.  There is marked lung opacification, particularly involving the right upper lobe, both lower lobes to some extent, however, and also the left perihilar region in the left upper lobe.  There is no definite pleural effusion. Severe multifocal opacities, with suspicion that they most likely represent pneumonia, although a component of coinciding fluid overload is also possible.',\n",
       " 'Shortness of breath, evaluate for pneumonia. Chest CTA, ___. Cardiomediastinal, pleural and pulmonary structures are unremarkable.  There is no pneumothorax, consolidation or pleural effusion.  Heart size is normal. No acute cardiopulmonary process.',\n",
       " 'Worsening tachypnea and volume overload. Portable AP radiograph of the chest was reviewed in comparison to ___. The multifocal opacities on the current study appear to be progressed as compared to prior examination concerning for multifocal infection.  There is small amount of right pleural effusion, slightly increased since the prior study.  No definitive evidence of pulmonary edema is present, but it cannot be entirely excluded and reassessment of the patient after diuresis is recommended.  The position of the pacemaker is slightly unclear, and although unchanged since prior examinations, still most likely is in the right ventricle.',\n",
       " '___ year old woman with respiratory distress // pulmonary edema? Portable upright chest radiograph ___  Since the radiograph from 3 hr prior, there is no relevant change. No pulmonary edema or pneumonia. No pneumothorax.  Left pleural effusion is slightly smaller. Right pleural effusion is unchanged.  Moderate cardiomegaly is stable. This examination neither suggests nor excludes the possibility of pulmonary embolus.  Minimally smaller left pleural effusion, otherwise no change.',\n",
       " 'CHEST RADIOGRAPHS High blood sugar. ___ and scout view from chest CT performed on ___. Chest, PA and lateral. There is a large hiatal hernia with an air-fluid level.  The heart is mildly enlarged with a left ventricular configuration.  The cardiac, mediastinal and hilar contours appear unchanged.  The lungs appear clear aside from streaky atelectasis associated with a hiatal hernia in the left lower lung.  There is no pleural effusion or pneumothorax.  Small anterior osteophytes are noted along the mid-to-lower thoracic spine.  There has been no significant change. No evidence of acute disease.  Large hiatal hernia.',\n",
       " 'CHEST RADIOGRAPH Preoperative evaluation.  Patient with right femoral neck fracture. None. Chest, supine AP portable. The heart is mildly enlarged.  The aortic arch is calcified.  The lungs are hyperinflated.  A rounded contour projecting along the lower central mediastinum suggests a substantial hiatal hernia, although not fully characterized.  The lungs appear clear.  There are no pleural effusions or pneumothorax.  The bones appear demineralized.  Moderate-to-severe rightward convex curvature is centered along the upper lumbar spine. No evidence of acute cardiopulmonary disease.  Rounded contour in the lower mediastinum, probably a substantial hiatal hernia.',\n",
       " '10 PM Interval worsening in the degree of nodular opacities seen in the bilateral lungs may relate to slightly lower lung volumes, however superimposed pulmonary edema or infection could also be considered. These findings were discussed with Dr. ___ by Dr. ___ ___ telephone at 08 on ___, ___ min after discovery. ______________________________________________________________________________ CHEST (PORTABLE AP) ___ year old man with metastatic urothelial cancer with mets to lungs, now with desaturation and incrased wob  // interval change, pulmonary edema/effusion, pneumonia     interval change, pulmonary edema/effusion, pneumonia Chest radiographs ___ through ___.  Diffuse of pulmonary abnormality has developed since ___, partially obscuring multiple pulmonary metastases, most likely edema or alternatively pulmonary hemorrhage.  Small right pleural effusion is likely. Heart size normal. No pneumothorax.',\n",
       " 'CHEST (PORTABLE AP) ___F with CHF, today with dyspnea  // please eval for acute cp process ___  There is no focal consolidation, effusion, or pneumothorax.  There is mild pulmonary vascular congestion and trace interstitial edema.  Cardiomegaly is moderate.  Elevation of the right hemidiaphragm anteriorly is severe and chronic.  Imaged osseous structures are intact.  No free air below the right hemidiaphragm is seen.  Sternal wires, valve replacement, left chest cardiac device with 2 leads, and mitral annular calcifications appear similar compared to prior.  Mild pulmonary vascular congestion and trace interstitial edema.',\n",
       " ' Frontal and lateral views ___F with MVC, headache, confusion. SOB.  // bleed? fracture? pTX Frontal and Lateral None.  The lungs are clear without focal consolidation.  No pleural effusion or pneumothorax is seen. The cardiac and mediastinal silhouettes are unremarkable.  No displaced fracture identified.  No acute cardiopulmonary process.',\n",
       " '42 AM No pneumonia. WET READ VERSION #1 ______________________________________________________________________________ ___-year-old with cough. Frontal and lateral radiograph of the chest were obtained. None.  The lungs are clear.  The cardiomediastinal silhouette and hila are normal. There is no pleural effusion and no pneumothorax. No acute cardiothoracic process.',\n",
       " '___ year old woman with dypsnea  // evaluate pulm edema or effusion Chest PA and lateral ___ portable chest radiograph  In comparison in ___ portable chest radiograph, bilateral lungs volumes are low-normal.  There is platelike atelectasis of the left mid lung. No consolidation nor pleural effusions nor pneumothorax seen.  The heart size is top normal.  There is no pulmonary vascular congestion nor pulmonary edema. There has been interval placement of skin ___ in the anterior chest wall which are aligned and intact.  There is no acute bony abnormality.  1.  Low-normal lung volumes with platelike atelectasis of the mid-left lung. 2. Stable mild cardiomegaly without pulmonary vascular congestion or edema. 3. No radiographic evidence of pneumonia 4. Interval placement of skin ___ in the anterior chest wall when compared to ___ portable chest radiograph.',\n",
       " '53 AM Mild cardiomegaly and apparent pulmonary vascular congestion. ______________________________________________________________________________ PA and lateral chest radiographs ___M with COPD, CHF who presents w SOB, diaphoresis. Chest PA and lateral None.  Lungs are fully expanded and clear. Heart size is at the upper limits of normal or minimally enlarged.  The mediastinal silhouette is within normal limits.  There is minimal upper zone redistribution, without overt CHF.  No focal infiltrate or pleural effusion is detected.  Borderline cardiomegaly.  Mild upper zone redistribution, without overt CHF.',\n",
       " 'PORTABLE CHEST ___ Radiograph of one day earlier. Right chest tube remains in place, with a small right apicolateral pneumothorax, which is decreased in size since the recent radiograph. Otherwise, little change in the appearance of the chest since the previous study.',\n",
       " 'CHEST (PA AND LAT) ___M with dyspnea, history of lymphoma and cardiac disease // pulm edema? None  PA and lateral views of the chest provided.   There is extensive bilateral pulmonary opacity with ground-glass and reticular opacity consistent with severe pulmonary edema.  No large effusion is seen.  No pneumothorax.  The heart is not enlarged.  Mediastinal contour is normal.  The hila are prominent and congested.  Bony structures are intact.  Severe pulmonary edema.',\n",
       " '___M with hemoptysis  // evaluate for pneumonia or mass Chest PA and lateral Chest radiograph dated ___  PA and lateral chest radiographs demonstrate a stable cardiomediastinal silhouette.  Ectatic ascending aorta is better appreciated on dedicated chest CT dated ___.  Lungs are clear without a focal opacity convincing for pneumonia.  There is no pneumothorax, pulmonary edema, or pleural effusion.  Right apical scarring is noted and correlates with chest CT, unchanged allowing for differences in modality.  Multilevel degenerative changes are present within the imaged thoracic spine.  No acute intrathoracic abnormality.  Ectatic ascending aorta better appreciated on dedicated chest CT dated ___.',\n",
       " 'A ___-year-old female with the recent aortic valve replacement, now presenting with increasing cough. Recent chest radiograph from ___ and PA and lateral chest radiographs from ___. Evaluation is limited due to significant patient rotation to the right.  Median sternotomy wires appear intact.  Moderately severe enlargement of the cardiac silhouette appears grossly unchanged.  Evaluation of the mediastinum is limited due to the significant patient rotation.  There is mild interstitial pulmonary edema. The appearance is similar to recent portable radiograph from ___.  Blunting of the bilateral costophrenic angles is chronic and are compatible with persistent small pleural effusions.  No confluent consolidation or pneumothorax is present.  Evidence of prior vertebroplasty in the mid thoracic spine is unchanged from prior.  1.  Limited examination due to poor patient positioning. 2.  Mild interstitial pulmonary edema is similar to recent prior examination with small bilateral pleural effusions. 3.  Stable moderately severe cardiomegaly. 4.  No confluent consolidation or pneumothorax.',\n",
       " '___ year old man with IPF s/p pigtail removal  // Please evaluate for interval change or increase in pneumothorax The comparison is made with prior studies including ___.  Endotracheal tube tip is 5 cm above the carina.  Nasogastric tube tip is in the stomach.  There is no pneumothorax or CHF.  There is stable patchy consolidation in both lung bases.  There are probable small effusions bilaterally.',\n",
       " 'CHEST (PA AND LAT) ___F with cough Chest PA and lateral None.  Cardiac, mediastinal and hilar contours are normal. Pulmonary vasculature is normal. Minimal patchy opacity is noted within the left lower lobe.  A trace left pleural effusion may be present as there appears to be blunting of the posterior left costophrenic sulcus.  No focal consolidation or pneumothorax is present.  There are no acute osseous abnormalities.  Minimal patchy left lower lobe opacity is worrisome for pneumonia. Possible trace left pleural effusion. Followup radiographs after treatment are recommended to ensure resolution of this finding.',\n",
       " 'CHEST (PA AND LAT) ___M with chest pain  // eval cardiomegaly, CHF, PNA Chest radiograph ___  There are diffuse bilateral interstitial markings, overall unchanged since ___. This is consistent with chronic lung disease. No new areas of focal consolidation or pleural effusions. No pneumothorax.  Heart size is top normal, stable from prior.  Atherosclerotic calcifications are seen in the coronary arteries, better appreciated on the lateral view.  1. No acute intrathoracic process. Stable bilateral interstitial markings, likely chronic lung disease. 2. Coronary artery calcifications.',\n",
       " 'Confusion, word finding difficulty for three days.  Evaluate for acute process. Prior chest radiograph from ___. PA and lateral chest radiographs. The cardiomediastinal and hilar contours are within normal limits. Lungs are well expanded and clear.  There is no focal consolidation, pleural effusion or pneumothorax. No acute cardiopulmonary process.',\n",
       " 'Fever, cough, wheezing.  Rule out an acute process.  Patient has history of asthma. Prior chest radiograph from ___. PA and lateral chest radiographs.  Lung volumes are markedly decreased, accentuating the bronchovascular structures and cardiac silhouette.  New bibasilar opacities are concerning for pneumonia. There is also overlying bibasilar atelectasis with probable left-sided pleural fluid.  There is bilateral peribronchial cuffing. There are dilated loops of bowel in the upper abdomen.  Markedly decreased lung volumes with bibibasilar opacities concerning for pneumonia. Follow up imaging is recommended after treatment to document resolution. Findings discussed with Dr. ___ by ___ via telephone on 50 AM.',\n",
       " 'Metastatic adenocarcinoma of the esophagus, to assess for interval change. In comparison with the study of ___, the opacification at the right base has decreased.  This could reflect improving effusion and atelectasis, or merely be a manifestation of a more upright position of the patient.  Otherwise, little change.',\n",
       " 'CHEST (PA AND LAT) ___F with cough and fever for 5 days, hx of idiopathic pulm fibrosis. None  Diffuse interstitial fibrosis is present compatible with provided history of idiopathic pulmonary fibrosis. Difficult to exclude a superimposed pneumonia especially in the absence of baseline prior chest radiograph. No large effusion or pneumothorax. Heart size is difficult to assess. Bony structures appear grossly intact.  Interstitial fibrosis. Difficult to exclude a superimposed pneumonia.',\n",
       " '28 AM ETT has been slightly advanced, in better position. Otherwise, unchanged. WET READ VERSION #1 ______________________________________________________________________________ CHEST (PORTABLE AP) ___ year old man s/p liver transplant  // pushed ETT in - eval placement ___.  As compared to the previous radiograph, there is no relevant change in appearance of the endotracheal tube. The tip of the tube still projects approximately 5 cm above the carinal. The course of the other lines and monitoring devices is constant.  Constant moderate pulmonary edema and moderate cardiomegaly with retrocardiac atelectasis.  No evidence of pneumothorax.',\n",
       " 'Chest radiograph Cough and fever. AP and lateral views of the chest. None.  Heart size is mildly enlarged.  Cardiomediastinal silhouette and hilar contours are otherwise unremarkable.  Lungs are clear.  Pleural surfaces are clear without effusion or pneumothorax.  Mild cardiomegaly.  No evidence of pneumonia.',\n",
       " 'New onset chest pain. PA and lateral views of the chest. 16 on ___.  Heart size is normal.  Prominence of the right hilum is compatible with underlying lymphadenopathy.  Aorta is unfolded.  Consolidative opacification within the right upper lobe is compatible with pneumonia.  Minimal atelectatic changes are noted in the lung bases.  No pleural effusion, pneumothorax, or pulmonary vascular congestion is demonstrated.  Cholecystectomy clips are present in the right upper quadrant of the abdomen.  Right upper lobe pneumonia with reactive right hilar lymphadenopathy.  Follow up radiographs after treatment are recommended to ensure resolution of this finding.',\n",
       " ' Frontal and lateral views ___F with sob  // sob Frontal and Lateral Reference made to chest CT from ___  Blunting of the right costophrenic angle suggests a small right pleural effusion.  Overlying right base opacity may be due to atelectasis however, infectious process is not excluded.  There is likely left base atelectasis. Interstitial appearing opacity at the right lung apex with upward retraction of the right hilum likely consistent with postradiation change, as seen on chest CT from ___.  New blunting of the right costophrenic angle raises concern for small right pleural effusion with overlying atelectasis.  Right base consolidation is difficult to exclude.  Likely left base atelectasis. Right upper hemi thorax post radiation change.',\n",
       " 'CHEST RADIOGRAPH Intubation and pneumonia, ETT placement, questionable progression. ___. As compared to the previous radiograph, there is no relevant change.  Moderate atelectasis in the retrocardiac lung regions.  No new parenchymal opacities.  Unchanged position of the endotracheal tube and nasogastric tube.',\n",
       " '29 PM Right middle pleural-based mass corresponds to a metastasis seen on ___ and ___ Atrius Imaging CT examinations (available remotely). No superimposed acute intrathoracic process detected. While no large pulmonary embolus is seen on the ___ CT exam, that protocol was not optimized to evaluate the subsegemental arteries. WET READ VERSION #1 ______________________________________________________________________________ Shortness of breath. Atrius CT examination available remotely, performed on ___ and ___.  A pleural-based right middle zone mass is better seen on the Atrius CT examinations from ___ and ___ (not currently available on ___ PACS).  Coarse reticular opacities throughout both lungs likely reflect mild pulmonary edema.  There are trace bilateral pleural effusions.  There is no pneumothorax.  The heart is mildly enlarged, and the hilar and mediastinal contours are within normal limits.  1. Large right middle-zone pleural-based mass is seen on CT examinations from ___ Imaging on ___ and ___, compatible with metastatic RCC.  Of note, no large pulmonary embolus was detected on the ___ CT examination; however, that technique was not optimized for evaluation of the subsegmental arteries. 2.  Mild pulmonary edema and small bilateral pleural effusions.',\n",
       " 'CHEST (PA AND LAT) ___F with fall, chipped tooth Chest PA and lateral None.  No radiopaque foreign body is demonstrated. Lung volumes are slightly low which accentuates the size of the cardiac silhouette which is borderline enlarged. Mediastinal and hilar contours are unremarkable. Pulmonary vasculature is normal. No focal consolidation, pleural effusion or pneumothorax is demonstrated. No acute osseous abnormality is detected.  No acute cardiopulmonary abnormality.  No radiopaque foreign body identified.',\n",
       " 'PORTABLE CHEST, ___  Swan-Ganz catheter has been slightly advanced into the right interlobar pulmonary artery.  Cardiac silhouette has decreased in size.  Mild pulmonary vascular congestion is present without overt pulmonary edema. Improving left basilar atelectasis and persistent small pleural effusion.',\n",
       " 'CHEST TWO VIEWS, ___ ___-year-old female with productive cough and shortness of breath. Question pneumonia. None. PA and lateral views of the chest.  The lungs are clear of consolidation, effusion or pulmonary vascular congestion.  The cardiomediastinal silhouette is normal.  No acute osseous abnormality is identified. No acute cardiopulmonary process.',\n",
       " '___ year old woman with HF and respiratory distress. Pulmonary edema? Portable frontal supine chest radiograph Multiple prior chest radiographs, most recent on ___  There has been significant interval worsening of the left sided pleural effusion with associated left lower lobe collapse. A right lower lung opacity is a combination of a layering effusion and atelectasis. Vascular congestion and interstitial edema is also unchanged.  Assessment of cardiac size is limited due to technique but there appears to be moderate cardiomegaly. There is no pneumothorax. Left-sided PICC line ends in the mid SVC. Severe degenerative changes of the right glenohumeral joint are reidentified.  Significant worsening of the left pleural effusion with associated severe left lower lobe atelectasis. Vascular congestion and interstitial pulmonary edema not significantly worsened from the previous exam.',\n",
       " 'New seizure. CXR ___ and ___, PET-CT ___. Frontal and lateral views of the chest were obtained.  The lungs are well expanded and clear without focal consolidation, pleural effusion or pneumothorax. Heart size is normal. The mediastinal silhouette and hilar contours are  similar to ___, decreased width in the upper mediastinal since ___ is likely due to interval decrease in mediastinal lymphadenopathy.  A right Port-A-Cath ends in the mid SVC. No pneumonia, edema, or effusion.',\n",
       " '___F with Altered mental status  // Eval for acute process AP and lateral views the chest. ___.  The lungs are clear without focal consolidation or edema.  Moderate cardiomegaly is again noted.  Left chest wall triple lead pacing device is again noted.  Accentuated thoracic kyphosis is again noted.  No acute cardiopulmonary process.',\n",
       " '___-year-old female with bacteremia status post extubation. Evaluate for pneumonia. Single frontal chest radiograph. ___, ___ dating back to ___.  Left internal jugular approach venous catheter tip projects within the left brachiocephalic vein.  There is persistent bibasilar, left greater than right, asymmetric opacification, atelectasis on the right and likely atelectasis on the left, though infection remains a possibility.  There is mild vascular engorgement and interstitial pulmonary edema, unchanged.  There is a small left pleural effusion.  There is no evidence of pneumothorax.  The cardiomediastinal and hilar contours are stable demonstrating tortuosity of the thoracic aorta.  1.  Stable mild interstitial pulmonary edema. 2.  Likely bibasilar atelectasis; however pneumonia cannot be excluded in the appropriate clinical setting.',\n",
       " 'CHEST (PA AND LAT) Palpitations. Evaluate for pneumothorax None.  The lungs are clear.  The hilar and cardiomediastinal contours are normal. There is no pneumothorax. There is no pleural effusion. Pulmonary vascularity is normal.  No acute cardiopulmonary process.',\n",
       " '___-year-old male status post liver transplant in ___, COPD, and chronic kidney disease, now presenting with dyspnea. Chest radiograph from ___ and ___. There is mild pulmonary vascular congestion without overt interstitial edema.  There are new small bilateral pleural effusions.  No confluent consolidation is identified.  There is no pneumothorax.  Cardiomediastinal and hilar contours are within normal limits. New mild pulmonary vascular congestion with new small bilateral pleural effusions.',\n",
       " '18 PM Small bilateral pleural effusions and pulmonary vascular congestion. 10 PM Blunting of the bilateral costophrenic angles may represent pleural effusion versus thickening. ______________________________________________________________________________ ___F with chf/a fib rvr  // acute process Chest PA and lateral Multiple chest radiographs dated ___ through ___.  The lungs are well-expanded and clear of consolidation but notable for pulmonary vascular congestion.  The cardiac silhouette remains enlarged.  The patient is status post median sternotomy and CABG, with intact sternotomy wires.  Coronary artery stents are noted.  Dense mitral annular calcifications are seen.  Blunting of the bilateral costophrenic angles may represent pleural effusion versus thickening.  No pneumothorax or consolidation.  Small bilateral pleural effusions and pulmonary vascular congestion.',\n",
       " '26 PM Patchy ill-defined opacity within the right mid lung field concerning for pneumonia.  Followup radiographs after treatment are recommended to ensure resolution of this finding. ______________________________________________________________________________ Cough. PA and lateral views of the chest. Chest radiograph ___.  The cardiac, mediastinal and hilar contours are within normal limits.  The pulmonary vascularity is normal.  Patchy ill-defined opacity is noted within the right mid lung field, possibly within the superior segment of the right lower lobe, concerning for pneumonia.  Left lung is clear.  No pleural effusion or pneumothorax is identified.  No acute osseous abnormalities are seen, though there are mild degenerative changes in the thoracic spine.  Patchy ill-defined opacity within the right mid lung field concerning for pneumonia.  Followup radiographs after treatment are recommended to ensure resolution of this finding.',\n",
       " '38 AM Left upper lobe pneumonia.  Follow-up chest x-ray after treatment to ensure resolution. *** ED URGENT ATTENTION *** ______________________________________________________________________________ CHEST (PA AND LATERAL) ___-year-old man presenting with cough and fever. PA and lateral radiograph views of the chest were obtained. No prior imaging is available in PACS.  Left upper lobe opacity suggests pneumonia in the given clinical history. Retrocardiac opacity is most likely atelectasis from lack of full inspiration. No pulmonary edema, pleural effusion or pneumothorax.  The heart size, hila, and pleura are normal.  Left upper lobe pneumonia.  Follow-up chest x-ray after treatment to ensure resolution.',\n",
       " 'Evaluation of the patient with fluid overload, assessment for pulmonary edema. Portable AP radiograph of the chest was reviewed in comparison to ___. Tubes and lines are in unchanged position.  Widespread parenchymal consolidations are unchanged, substantial with only potentially minimal improvement in the left upper mid lung zone.  Bilateral pleural effusions are unchanged.',\n",
       " 'Prostate cancer with weakness and hypoxemia, right for a cardiopulmonary process or infiltrate. Chest radiograph ___ and chest CT ___. There are tiny bilateral pleural effusions.  There is no pneumothorax or focal airspace consolidation to suggest pneumonia.  The heart size is enlarged but unchanged.  There is mild pulmonary vascular congestion consistent with mild volume overload.  The mediastinal contours are unremarkable. Mild volume overload.',\n",
       " '___-year-old female with cough and fevers.  Question pneumonia. ___ and ___.  PA and lateral views of the chest.  Diffuse interstitial opacities have not significantly changed from prior.  Posterior costophrenic angles are sharp. Thickening along 1 of the major fissures may represent fluid or pleural thickening.  Cardiac silhouette is enlarged but stable in configuration. Right chest wall dual lead pacing device is again seen.  There is a new right chest wall tunneled dual lumen catheter with distal tip in the right atrium. There is no new confluent consolidation.  No acute osseous abnormality detected.  No significant interval change since prior.  Diffusely increased interstitial markings compatible with interstitial edema versus chronic changes.  No superimposed acute process.',\n",
       " 'CHEST (PORTABLE AP) ___ year old man with advanced pancreatic adenosquamous CA, requiring O2 and with cough and leukocytosis  // ?pna Single frontal view of the chest Prior radiographs on ___  Compared with prior radiographs on ___, and there is collapse of the right middle lobe, and a moderate right pleural effusion with fluid in the minor fissure.  Overall lung volumes are low.  There is left basilar atelectasis and a probable small left pleural effusion.  A left Port-A-Cath terminates in the mid SVC.  The right-sided PICC line terminates in the low SVC.  A hepatic drain is seen below the level of the diaphragm.  Right middle lobe collapse and moderate right pleural effusion.  Left basilar atelectasis and probable small left pleural effusion.',\n",
       " 'Cough and cold with green sputum. None available. PA and lateral chest radiograph, three views. Heart size is normal with mildly tortuous thoracic aorta.  Hilar contours are unremarkable.  There is a subtle increased density in the posterior lower lung fields on lateral view only without frontal correlate which could represent atelectasis or a subtle pneumonia.  There is no pleural effusion or pneumothorax. Slightly increased density in the lower posterior lung field on lateral view only, which is likely atelectasis; however, infection is not excluded given the correct clinical circumstance.',\n",
       " '___M with multifocal pna seen on ct scan of abd // eval pna, upper lobe invovlmeent Chest PA and lateral CT from ___.  Opacities at the left lower lobe and lingula, correspond with the findings on the recent CT, and is concerning for pneumonia. Mild fullness of the left hilum may be secondary to reactive lymphadenopathy. The heart size is normal. There is no pleural effusion or pneumothorax. The visualized osseous structures are unremarkable.  Left lower lobe and lingular pneumonia, as seen on the recent CT. Fullness of the left hilum likely is secondary to reactive lymphadenopathy.  Recommend follow up radiographs in 6-weeks to assess for resolution ___A on the day of the exam by phone by Dr. ___.',\n",
       " '40 PM  1.  NG tube kinked within the stomach. 2.  Severe scoliosis with mild retrocardiac atelectasis. ______________________________________________________________________________ A ___-year-old female with developmental delay and NG tube for feeds. Supine portable AP chest radiograph. ___ through ___. There continues to be markedly severe S-shaped scoliosis of the thoracolumbar spine.  The endogastric tube courses inferiorly into the stomach with its sideport well below the GE junction; however, the NG tube does appear kinked in the segment that is just 4.5-5 cm upstream from the sideport.  The right PICC tip is in the lower SVC.  Within the limits of a severely scoliotic patient, the cardiac and mediastinal contours appear normal.  The lungs demonstrate mild retrocardiac atelectasis.  There is no large pleural effusion or pneumothorax.  1.  NG tube kinked within the stomach - consider minimal retraction to reposition. 2.  Severe scoliosis with mild retrocardiac atelectasis.',\n",
       " 'CHEST (PORTABLE AP) ___ year old man with presumed hypersensitivity pneumonitis  // assess for interval change ___.  As compared to the previous radiograph, the bilateral parenchymal opacities have decreased in extent and severity.  No new opacities. The lung volumes remain low.  Borderline size of the cardiac silhouette.  No larger pleural effusions.',\n",
       " '45 PM Patchy right infrahilar opacity, atelectasis or potentially pneumonia; a component of this appears nodular and may reflect a true nodule - short-term follow-up radiographs are suggested to reassess versus evaluation with chest CT. ______________________________________________________________________________ CHEST RADIOGRAPH Dyspnea.  Question effusion. ___. Chest, PA and lateral. The heart is mildly enlarged.  The aortic arch is calcified.  The mediastinal and hilar contours appear unchanged.  There is a patchy right infrahilar opacity including a nodular focus of about 15 mm in diameter, although perhaps part of a developing consolidation.  Posterior and lateral costophrenic sulci are blunted, so there may be potentially tiny bilateral pleural effusions.  There is no pneumothorax.  Mild rightward convex curvature and moderate degenerative changes are noted along the mid-to-lower thoracic spine.  Vascular calcifications are widespread. Patchy right infrahilar opacity worrisome for pneumonia, but including a nodular component.  The possibility of a true lung nodule should be considered.  Either evaluation with dedicated chest CT, preferably with intravenous contrast, if possible, or short-term followup radiographs are recommended to assess further.',\n",
       " 'Evaluation of the patient with gastrointestinal bleeding and acute shortness of breath. Portable AP radiograph of the chest was reviewed in comparison to ___. There is interval development of interstitial pulmonary edema, moderate. Heart size is enlarged, unchanged.  Mediastinal silhouette is stable.  Interstitial pulmonary edema, progressed since the prior study.  Small bilateral pleural effusion is most likely present.',\n",
       " '___-year-old female with shock and hypoxemia. Multiple chest radiographs dating back to ___, most recently ___. Portable supine PA chest radiograph. ET tube is seen terminating within the right main stem bronchus or close to its origin.  There has been interval increase in right lung volume and right pulmonary edema.  There is stable low lung volume in the left lung. Small bilateral pleural effusions are noted.  Multiple nodular opacities within the right lung which can represent early atelectasis or infiltrate. There is stable cardiomegaly.  No pneumothorax is observed.  IJ catheter is seen terminating within the mid SVC.  1.  ET tube is seen within the right main stem bronchus or near its origin. Recommendation is made for it to be withdrawn 3-4 cm. 2.  Increasing pulmonary edema.  Increasing nodular confluent opacities consistent with early atelectasis or infiltrate. 3.  Stable cardiomegaly with small unchanged bilateral effusions. 06 p.m. via phone by ___ ___.',\n",
       " '58 AM 1.  Acute pulmonary edema with associated bilateral pleural effusions. 2.  Significant enlargement of the cardiac shadow with a left-sided predominant pleural effusions raise concern for pericardial effusion. ______________________________________________________________________________ ___-year-old female with dyspnea.  Evaluate for pneumonia or heart failure. ___. PA and lateral chest radiograph. There are bilateral lower lobe predominant interstitial opacities with vascular cephalization and mediastinal and hilar engorgement.  Bilateral pleural effusions, left worse than right are present. Streaky retrocardiac opacities likely represent atelectasis.  There is significant cardiac enlargement compared with prior exam.  Atherosclerotic calcifications of the aortic knob are present.  Sternotomy wires, mediastinal clips, and prosthetic aortic valve are redemonstrated and intact.  1.  Acute pulmonary edema with associated bilateral pleural effusions. 2.  Significant new cardiomegaly and/or pericardial effusion.',\n",
       " 'Fifth comparison chest radiographs since ___ through ___. CHEST (PORTABLE AP) ___ year old man with NGT placed  // please confirm placement please confirm placement  Feeding tube with the wire stylet in place ends in the lower esophagus and would need to be advanced 10 cm to reposition it in the mid stomach. No pneumothorax or pleural effusion.  Right PIC line ends in the low SVC. Patient has had median sternotomy and aortic and mitral valve replacements. Severe cardiomegaly is chronic, mild interstitial edema is probably present. Right lower lobe consolidation which developed sometime after ___, is concerning for pneumonia.  No pneumothorax.  Right PIC line ends in the mid SVC.',\n",
       " 'CHEST (AP AND LATERAL) ___F with shortness of breath Upright AP and lateral views of the chest ___  Heart size is borderline enlarged with a left ventricular predominance. The aorta is unfolded.  Mediastinal and hilar contours are unchanged.  Calcified nodule in the left mid lung field is similar, compatible with a granuloma. Lungs are clear without focal consolidation. Pulmonary vasculature is normal. No pleural effusion or pneumothorax is seen. There are multilevel moderate degenerative changes in the thoracic spine.  No acute cardiopulmonary abnormality.',\n",
       " 'CHEST (PORTABLE AP)CHEST (PORTABLE AP)i ___ year old woman with ams/generalized weakness, evaluate for PNA // evaluate for pna Chest radiographs ___ and ___ read in conjunction with chest CT scanning ___.  Interval progression of mediastinal left and right hilar adenopathy. Worsening consolidation in the left upper lobe probably due to bronchial obstruction.  New small left pleural effusion.',\n",
       " 'Pneumonia for 9 days, evaluate progression. Frontal and lateral views of the chest. None. There is a consolidation in the right lower lobe, consistent with pneumonia.  There is no pleural effusion, pneumothorax or focal airspace consolidation.  The cardiac and mediastinal contours are normal.  The left hilus is unremarkable.  There is an abnormal contour to the right hilus, indicating some degree of lymphadenopathy. Right lower lobe pneumonia.  Follow-up to resolution in 4 to 6 weeks is recommended. Findings discussed with Dr. ___ by Dr. ___ on ___ by telephone at the time of discovery.',\n",
       " 'CHEST (PA AND LAT) ___ year old woman with fevers, sob, cough  // ?consolidation or evidence of PNA      ?consolidation or evidence of PNA  No previous images.  There is mild hyperexpansion of the lungs, but no evidence of acute pneumonia, vascular congestion, or pleural effusion. Probable calcified granuloma at the left base laterally, with multiple calcifications in the right perihilar region consistent with granulomatous lymph nodes.',\n",
       " '21 PM pulmonary edema has resolved since ___. elevation of the right hemidiaphragm. lungs are clear. ___ ___ WET READ VERSION #1 ______________________________________________________________________________ Cryptogenic cirrhosis, evaluation. ___. As compared to the previous radiograph, there is a substantial improvement.  Although the lung volumes have decreased, there is complete resolution of the pre-existing pulmonary edema.  Mild areas of atelectasis are seen at the bases of the right lung.  No cardiomegaly.  No pleural effusions. No focal parenchymal opacity suggesting pneumonia.',\n",
       " '___-year-old female with left facial numbness. None available. The lungs are clear.  There is no focal consolidation or pneumothorax.  There is no vascular congestion or pleural effusions.  Cardiomediastinal and hilar contours are within normal limits. No acute cardiopulmonary process.',\n",
       " '___ year old man with trach, fever // pneumonia Chest PA and lateral ___  Left internal jugular venous catheter terminates at cavoatrial junction. Tracheostomy tube is in unchanged position. There is no consolidation, pneumothorax, or large pleural effusion. Cardiomediastinal silhouette is normal size.  No acute focal consolidation to suggest pneumonia',\n",
       " '08 PM Moderate pulmonary edema. WET READ VERSION #1 ______________________________________________________________________________ ___-year-old with shortness of breath.  Frontal and lateral radiographs of the chest were obtained. CTA of the chest from ___ and chest radiograph from ___.  There is a moderate cardiomegaly and moderate pulmonary edema. Mild blunting of the right cardiophrenic angle, likely due to overlying soft tissue.  There is no pneumothorax. The mediastinum and hila are normal.  Moderate cardiomegaly and moderate pulmonary edema.',\n",
       " 'Epigastric pain. Frontal and lateral views of the chest. ___.  The cardiac and mediastinal silhouettes are stable.  There is minor left basilar atelectasis.  No focal consolidation, pleural effusion, or evidence of pneumothorax is seen.  No evidence of free air is seen beneath the diaphragms.  No acute cardiopulmonary process.',\n",
       " '___-year-old male with chest pain after MVC. No relevant comparisons available. Frontal and lateral views of the chest were obtained.  Lung volumes are slightly low resulting in bronchovascular crowding.  There is no focal consolidation, pleural effusion or pneumothorax.  Cardiac and mediastinal silhouettes and hilar contours are within normal limits allowing for lung volumes.  No displaced rib fracture is seen.  There is no air under the diaphragm. No evidence of acute intrathoracic injury.',\n",
       " 'CHEST, TWO VIEWS; ___ Shortness of breath. ___. Frontal and lateral views of the chest.  Compared to prior, there is no change.  Subtle opacity in the left suprahilar region is unchanged and as previously characterized.  The lungs are otherwise clear.  Rounded opacity over the right lung base laterally on one of the frontal views is most compatible with a nipple shadow.  Streaky right basilar opacity is most likely atelectasis given low lung volumes.  Trace bilateral effusions are identified. The cardiomediastinal silhouette is within normal limits.  Atherosclerotic calcification is seen at the aortic arch.  No acute osseous abnormalities identified. Trace bilateral effusions.  Relatively linear right lower lung opacity on the frontal view is suggestive of atelectasis, especially given low lung volumes.',\n",
       " 'Productive cough. Chest radiograph available from ___. The patient is status post median sternotomy.  The heart size is normal.  The hilar and cardiomediastinal contours are within normal limits.  The lungs are hyperinflated, likely reflecting chronic obstructive disease. The central pulmonary vessels are prominent, however, there is no interstitial edema.  A left basilar density may reflect a consolidation with a possible effusion.  There is no pneumothorax. Left lower lobe density concerning for pneumonia. Updated findings were discussed by Dr. ___ with Dr. ___ ___ telephone at 34 AM on ___.',\n",
       " 'Status post fall. ___. PA and lateral chest radiographs two views. Heart size is normal with mild tortuosity of thoracic aorta.  Hilar contours are unremarkable.  Lungs are clear.  Pleural surfaces are clear without effusion or pneumothorax.  No overt traumatic injury. No acute cardiopulmonary abnormality.  No overt traumatic findings.  If there is focality to examination, dedicated rib series may be helpful.',\n",
       " '___-year-old woman with cough and mild shortness of breath with moderate left shoulder and arm pain. ___ and CT chest ___. The lungs are well expanded and clear without focal consolidation, pleural effusion or pneumothorax.  Heart size is normal.  Mediastinal silhouette and hilar contours are normal.  No acute osseous abnormality is identified.  There is no free air under the diaphragm.  A healed left posterior sixth rib fracture is noted. No pneumonia, effusion or edema.',\n",
       " '___-year-old male with tachycardia, evaluate for infiltrate. Additionally, he has a known left calcaneal fracture. There are low lung volumes, and there is elevation of the right hemidiaphragm.  Airspace opacity in the right lower lung may reflect atelectasis or focal consolidation favoring the latter. There is no pleural effusion, or pneumothorax.  The cardiac silhouette is normal in size, accentuated by low volumes.  The mediastinal contours are normal. Scoliosis may be positional.  1. Low lung volumes, with airspace opacity which could represent hemorrhage, contusion, or pneumonia, or less likely atelectasis; recommend repeat views with better chest expansion. 2. Scoliosis may be positional, recommend clinical correlation for back pain.',\n",
       " ' Frontal and lateral views ___F with cough, possible foreign body  // concern for foreign body on previous exam, please eval with no overlying materials Chest Frontal and Lateral 40.  The lungs are clear without focal consolidation.  No pleural effusion or pneumothorax is seen. The cardiac and mediastinal silhouettes are stable. The previously described linear thin density projecting over the right side of the heart just inferior to the right mainstem bronchus on the prior study is not seen on the current study and may have been external to the patient. .  Previously seen linear density projecting just inferior to the right mainstem bronchus is no longer seen and may have been external to the patient.',\n",
       " 'Shortness of breath and lethargy. PA and lateral views of the chest. Chest CT ___.  Chest radiograph ___.  A new moderate to large right pleural effusion is demonstrated with associated right basilar opacification.  Patchy left basilar opacity is also demonstrated.  Peripheral increased interstitial markings likely reflect underlying chronic interstitial lung disease, as assessed on the previous CT. There is no pneumothorax or pulmonary vascular congestion.  Heart size is difficult to determine given the presence of the left pleural effusion. Mediastinal contours are unremarkable with calcification of the aortic knob. Right hilar enlargement is suggestive of underlying lymphadenopathy.  There are multilevel degenerative changes in the thoracic spine.  1. New moderate to large right pleural effusion. 2. Right basilar opacification could reflect pneumonia, atelectasis, or aspiration.  Followup imaging after treatment are recommended to ensure resolution and exclude underlying malignancy.  Milder opacification within the left lung base may reflect atelectasis or chronic interstitial abnormality. 3. Chronic interstitial lung disease, better assessed on previous CT.',\n",
       " 'Shortness of breath and dyspnea on exertion.  Rule out an acute process. Chest radiograph, ___. Frontal and lateral views of the chest.  No pleural effusion, pneumothorax, or focal airspace consolidation.  Cardiac size is normal.  Hilar and mediastinal structures are unremarkable.  The pulmonary vasculature is normal.  An old right rib fracture is noted. No acute cardiopulmonary process.',\n",
       " '___ year old man s/p extubation, originally intubated for anaphylaxis and question of bilateral infiltrates on CXR // Evaluate for infectious process, edema Upright PA and lateral chest Chest radiographs ___, ___ and ___  Endotracheal and enteric tubes have been removed.  Lung volumes are slightly improved since the next most recent study.  There is new fullness of the hila bilaterally without ___ pulmonary edema. There are new bibasilar opacities in the left retrocardiac and right infrahilar regions. There is ___ pleural effusion or pneumothorax. Heart size is exaggerated by low lung volumes, likely top-normal.  1. New bibasilar opacities worrisome for pneumonia. 2. New hilar fullness bilaterally may reflect central pulmonary vascular congestion although there is ___ ___ pulmonary edema. 3. Followup imaging after treatment is recommended. Chest CT should be considered if findings persist.',\n",
       " 'CHEST (PA AND LAT) ___F with extensive cardiac history with dyspnea, chills, cough. ___ and ___ CT  PA and lateral views of the chest provided.   The lungs appear somewhat hyperinflated with upper lobe lucency and splaying of bronchovasculature compatible with known emphysema. The heart is mildly enlarged. There is no evidence of edema or pneumonia. No pleural effusion or pneumothorax is present. Mediastinal and hilar contours appear normal. Bony structures are intact.  No free air below the right hemidiaphragm is seen.  Emphysema without superimposed acute process. Mild cardiomegaly.',\n",
       " 'PA and lateral chest x-ray. ___-year-old woman with bibasilar rales, evaluate for volume overload. PA and lateral projections, upright positioning. Chest x-ray ___.  Multiple median sternotomy wires are again identified. The cardiomediastinal silhouette is stable. The bilateral hila are unremarkable.  There is minimal left basilar atelectasis. Otherwise, there is no evidence of focal airspace abnormality. The pulmonary vasculature appears normal. There is no pneumothorax or effusion.  Minimal left basilar atelectasis. Otherwise, normal.',\n",
       " 'CHEST (PORTABLE AP) ___ year old woman with met pancreatic cancer and ___ presenting with fevers now with dyspnea  // Please eval for pulm edema, PNA, or other acute process     Please eval for pulm edema, PNA, or other acute process  In comparison with the study ___ ___, there is little overall change. Slightly improved lung volumes with left basilar opacification consistent with small pleural effusion atelectatic changes.  Less prominent changes are seen at the right base. No evidence of vascular congestion or acute focal pneumonia.',\n",
       " 'CHEST (PA AND LAT) ___M with fever  // ?pneumonia      ?pneumonia  Heart size is normal.  Mediastinum is normal.  Lungs are clear.  There is no pleural effusion.  There is no pneumothorax.',\n",
       " 'CHEST (PA AND LAT) ___F with HTN, PCOS, asthma, migraines who p/w dizziness and headache.  Evaluate for pneumonia. Chest PA and lateral Chest radiograph ___ and ___.  The heart size, mediastinal, and hilar contours are normal.  The lungs are clear without pleural effusion, focal consolidation, or pneumothorax.  No focal consolidation concerning for pneumonia.',\n",
       " 'CHEST (PORTABLE AP) ___ year old man with lymphoma, confusion, r/o infection  // r/o infection      r/o infection 14  29 is submitted.  Right Port-A-Cath unchanged in position.  Interval extubation and removal of the nasogastric tube.  Overall, there has been substantial improvement in aeration throughout both lungs likely representing a combination of resolving infection and pulmonary edema.  There may be a small residual layering right effusion.  There is persistent airspace consolidation in the right mid lung and right medial lung base which may reflect residual pneumonia/aspiration. An underlying mass cannot be excluded.  Clinical correlation is recommended. No pneumothorax.',\n",
       " '34 PM Bibasilar regions of consolidation, which could be due to pneumonia in the proper clinical setting.  Component of atelectasis, particularly on the left is also possible. 18 PM Right lower lobe pneumonia. ______________________________________________________________________________ ___F with fever, cough  // eval for consolidation Chest PA and lateral None  There is heterogeneous opacification of the right lung base, which likely represents a developing right lower lobe pneumonia.  Linear opacity also noted at the left lung base, potentially atelectasis.  The remainder of the lungs are clear.  Heart size and mediastinal contours are normal.  There is no pleural effusion or pneumothorax.  Osseous structures are intact.  Bibasilar regions of consolidation, which could be due to pneumonia in the proper clinical setting.  Component of atelectasis, particularly on the left is also possible.',\n",
       " '05 AM 1.   Area of increase density overlying the right hilum with a sharp lower margin is of unclear clinical significance. Chest CT is recommended for further assessment. 2.  Severe cardiomegaly, unchanged. ______________________________________________________________________________ ___ y/o male with cough. Chest radiographs from ___, ___ and ___. PA and lateral views of the chest. The lungs are well expanded and clear. Area of increase density overlying the right hilum with a sharp lower margin is of unclear clinical significance. Severe cardiomegaly is reidentified. The hilar contours are unremarkable. There is no pleural effusion or pneumothorax.  1.   Area of increase density overlying the right hilum with a sharp lower margin is of unclear clinical significance. Chest CT is recommended for further assessment. 2.  Severe cardiomegaly, unchanged. The impression was entered as an urgently flagged wet read on the ED dashboard 05 am after discussion with the attending as the patient was still in the ED.',\n",
       " 'Chest pain. Evaluate for pneumothorax or pneumonia. Chest radiographs from ___ and ___.  Frontal and lateral chest radiographs demonstrate a heart which is again top normal in size and well-aerated lungs which are clear.  No focal consolidation, pleural effusion, or pneumothorax is seen.  There is again pleural thickening at the bilateral apices, as well as a nodular opacity projecting over the left upper lung, unchanged dating back to at least ___.  Old fractures of the right fifth and sixth ribs are also unchanged.  No acute cardiopulmonary abnormality.',\n",
       " 'CHEST (PORTABLE AP) ___ year old woman with expanding RIJ hematoma causing tracheal deviation and now s/p ETT placement  // ETT placement Chest x-ray from ___. Targeted review of torso CT from ___  An ET tube is present, tip 3.8 cm above the carina. At present, the trachea appears midline. A right IJ central line tip overlies the mid/ distal SVC. There are low inspiratory volumes. There is moderate to moderately severe cardiomegaly. Prominence of the mediastinum is noted, in keeping with findings on the prior film and likely accentuated by low lung volumes. Mild left greater right apical pleural thickening is unchanged. The apices are otherwise clear. There is slight upper zone redistribution and diffuse vascular blurring, suggesting mild interstitial edema. There is patchy opacity at the left lung base and the possibility of left lower lobe collapse and/or consolidation cannot be excluded. The bulk of the left hemidiaphragm remains visible. Minimal blunting of the left costophrenic angle, but no gross effusion. Minimal atelectasis at the right base. Metallic density overlying the right side of the lumbar spine is consistent with known IVC filter, it incompletely evaluated on this study.  1. ET tube tip 3.8 cm above the carina. Trachea in midline. 2. Cardiomegaly and probable mild interstitial edema. 3. Left lower lobe collapse and/or consolidation. Question small left effusion.',\n",
       " 'CHEST (PORTABLE AP) ___ year old man with CT  // chest tube 03  Two right-sided chest tubes are present, similar in configuration to the prior film. The appearance of the right lung is similar, allowing for technical differences.  Again seen is a large right effusion, with underlying collapse and/or consolidation.  No pneumothorax is detected. The patient is status post sternotomy, with marked enlargement of the cardiomediastinal silhouette.  As before, the right-sided heart border is obscured by the opacities at the right lung base, but no significant interval change is detected in cardiomediastinal  size or morphology. The degree of retrocardiac opacity has improved. The left  lung is otherwise grossly clear. There is minimal blunting of left costophrenic angle, unchanged. On the left, they areas upper zone redistribution, but no overt CHF.  Vascular plethora in the right upper zone is likely secondary to compression of the right lung by the effusion.  Large right effusion with underlying collapse and/or consolidation.  This together with other findings in the chest are essentially unchanged compared with ___.  Possible slight interval improvement in left lower lobe collapse and/or consolidation.  No pneumothorax detected.',\n",
       " '___-year-old female with leg swelling cough, concerning for pneumonia or pulmonary edema. None. The lungs are well expanded and clear.  Cardiomediastinal silhouette is unremarkable.  There is no pneumothorax or pleural effusion. Visualized osseous structures are unremarkable. No evidence of pneumonia or pulmonary edema.',\n",
       " '02 A.M. ON ___ Subdural hematoma.  Preop for surgery.  Mild interstitial pulmonary abnormality is new, and there is hazy opacification in the juxtahilar left mid and lower lung zones which could be due to pneumonia.  Heart size is normal.  There is no appreciable pleural effusion. Dr. ___ was paged.',\n",
       " 'CHEST (PORTABLE AP) ___ year old man with left upper lobectomy s/p thoracotomy with chest tube to water seal  // lung collapse? ___  No relevant change as compared to the previous examination. The monitoring and support devices, including the left chest tubes are constant. Unchanged appearance of the ventilated than on ventilated left lung parts. Unchanged size of the cardiac silhouette.  Unchanged appearance of the right lung.',\n",
       " 'Chest radiograph ___-year-old woman with a history of CAD, AS, SOB and ___, evaluate for flash pulmonary edema, r/o underlying PNA. Per OMR, the patient has had recent AVR/CABG on ___. Chest PA and lateral upright radiograph view of the chest. Chest radiograph dated ___.  The dual-lumen left central venous catheter has been removed in the interim. Lung volumes remain low.  A small right pleural effusion is essentially unchanged.  A large left pleural effusion is probably overall unchanged as well with adjacent parenchymal opacities that most likely reflect atelectasis; however, concurrent infection cannot be excluded in the appropriate situation. There is mild central pulmonary vascular congestion without frank pulmonary edema.  Median sternotomy wires and aortic valve replacement as well as mediastinal clips are overall unchanged.  No pneumothorax.  The heart is stably enlarged, although difficult to fully assess in the setting of the left pleural effusion.  1.  Large left pleural effusion with probable associated compressive lower lobe atelectasis, though pneumonia cannot be excluded. 2.  Small right pleural effusion, unchanged. 3.  No pulmonary edema.',\n",
       " 'Chest pain after recent fall.  Evaluate for fracture. Chest radiograph, ___. In the left mid lung is a 2.9 cm rounded opacity with an air-fluid level concerning for a cavitary lesion.  This was no present in the prior exam.  The remainder of the lungs are unremarkable.  There is no pneumothorax, pleural effusion, or edema.  The cardiomediastinal silhouette is normal.  No fracture is visualized.  1.  2.9-cm left-sided cavitary lesion. 2.  No displaced rib fracture seen. 00 a.m. on ___ via telephone by Dr. ___.',\n",
       " 'PA and lateral chest x-ray. A ___-year-old man with shortness of breath, evaluate for cardiopulmonary process. PA and lateral projections, upright positioning. Chest x-ray ___.  In comparison to prior radiograph from ___, the cardiomediastinal silhouettes are stable. Central bronchovascular and diffuse interstitial prominence likely reflects pulmonary vascular congestion and mild pulmonary edema. There is no focal lung consolidation. There is no pneumothorax or pleural effusion.  Pulmonary vascular congestion and mild pulmonary edema. No focal consolidation.',\n",
       " 'Shortness of breath. Chest radiograph on ___. AP and lateral views of the chest. Thereis hyperinflation, consistent with background COPD.  There is increased diffuse parenchymal opacities bilaterally, more prominent at the bases consistent with mild pulmonary edema.  There are small bilateral pleural effusions layering posteriorly, left greater than right.  There is fluid in the major fissure seen on the lateral view.  There is moderate cardiomegaly. No pneumothorax. The left hemidiaphragm is elevated laterally. Moderate cardiomegaly, mild pulmonary edema and small bilateral pleural effusions consistent with CHF.',\n",
       " 'Pedal edema, evaluate for cardiopulmonary process. PA and lateral views of the chest. Chest radiograph ___.  Severe cardiomegaly is stable.  There are small bilateral pleural effusions. No focal consolidation is seen. No pulmonary vascular congestion is seen. There is mild atelectasis in the lung bases.  New bilateral pleural effusions with mild bibasilar atelectasis. Severe cardiomegaly is stable.',\n",
       " 'CHEST (PORTABLE AP) ___ year old man with receent extubatiopn ___, now with new chest pain, tachycardia  // r/o pna CHEST (PORTABLE AP) ___  Right subclavian line tip is at the level of lower SVC.  Heart size mediastinum are stable.  Pleural calcifications on the right are unchanged. There is no interval development of pulmonary edema or focal consolidations. No pneumothorax.',\n",
       " 'CHEST (PA AND LAT) ___F with chest tignthess-r/o PNA. None  PA and lateral views of the chest provided.  Moderate cardiomegaly is noted. Central hilar congestion is noted with mild interstitial edema. There is a calcified granuloma projecting over the right lateral mid lung. No large effusions are seen though there is trace fluid tracking along the major fissure. No pneumothorax. Mild atherosclerotic calcification is seen along the aortic knob. The imaged bony structures appear intact.  Moderate cardiomegaly with mild edema.',\n",
       " 'CHEST RADIOGRAPHS Cough. ___. Chest, PA and lateral. The heart is normal in size.  The mediastinal and hilar contours appear within normal limits.  The lungs are clear.  There are no pleural effusions or pneumothorax.  Bony structures are unremarkable. No evidence of acute disease.']"
      ]
     },
     "execution_count": 65,
     "metadata": {},
     "output_type": "execute_result"
    }
   ],
   "source": [
    "references"
   ]
  },
  {
   "cell_type": "code",
   "execution_count": 66,
   "id": "fd066323-6536-4478-941f-3f0384502c03",
   "metadata": {
    "scrolled": true
   },
   "outputs": [
    {
     "data": {
      "text/plain": [
       "['There is no pleural effusion or pneumothorax. No acute cardiopulmonary process. There is mild bibasilar atelectasis. There are no acute osseous abnormalities. The cardiac and mediastinal silhouettes are unremarkable. The cardiomediastinal silhouette is within normal limits. Moderate cardiomegaly.',\n",
       " 'No acute cardiopulmonary process. Linear opacities in the right lower lobe are consistent with atelectasis. There is no focal consolidation, effusion, or pneumothorax. No free air below the right hemidiaphragm is seen. There is mild bibasilar atelectasis. The mediastinal and hilar contours are unremarkable. There are no acute osseous abnormalities. The cardiomediastinal silhouette is within normal limits.',\n",
       " 'There is no pleural effusion or pneumothorax. No acute cardiopulmonary process. The mediastinal and hilar contours are unremarkable. The lungs are hyperinflated with flattening of the diaphragms. There are no acute osseous abnormalities. The cardiomediastinal silhouette is within normal limits. No free air below the right hemidiaphragm is seen.',\n",
       " 'The lungs are clear without focal consolidation, effusion, or pneumothorax. No acute cardiopulmonary process. The mediastinal and hilar contours are unremarkable. There is no pleural effusion or pneumothorax. The lungs are clear. There is mild bibasilar atelectasis. There are no acute osseous abnormalities. The cardiomediastinal silhouette is within normal limits. No free air below the right hemidiaphragm is seen.',\n",
       " 'The lungs are clear without focal consolidation, effusion, or pneumothorax. No acute cardiopulmonary process. The mediastinal and hilar contours appear within normal limits. There is no pleural effusion or pneumothorax. There are no acute osseous abnormalities. The cardiomediastinal silhouette is within normal limits. No free air below the right hemidiaphragm is seen.',\n",
       " 'In comparison with the study of ___, there is no pneumothorax or pleural effusion. There is mild pulmonary edema. There is no evidence of acute cardiopulmonary disease. Upper lungs are clear. In comparison with the study of ___, there is increased opacity in the right upper lobe and left lower lobe. There is mild bibasilar atelectasis. There are no acute osseous abnormalities. The cardiomediastinal silhouette is unremarkable. The mediastinal and hilar contours are unremarkable. Moderate cardiomegaly.',\n",
       " 'There is no pleural effusion or pneumothorax. No acute cardiopulmonary process. The mediastinal and hilar contours appear within normal limits. There are no acute osseous abnormalities. The cardiomediastinal silhouette is within normal limits. No free air below the right hemidiaphragm is seen.',\n",
       " 'As compared to the previous radiograph, there has been a decrease in the size of the right pleural effusion. There is no pneumothorax or pneumomediastinum. The right upper lobe opacity is unchanged. In comparison with the study of ___, there is increased opacity in the right upper lobe. Bilateral pleural effusions are present. There is mild pulmonary edema. There is no pleural effusion or pneumothorax. The aorta is tortuous. The mediastinal and hilar contours are unremarkable. Moderate cardiomegaly. Right internal jugular line ends in the right atrium and right ventricle.',\n",
       " 'There is no pulmonary edema. There is no focal consolidation or pneumothorax. No acute cardiopulmonary process. There is mild left lower lobe atelectasis. The aorta is tortuous. The cardiomediastinal silhouette is unremarkable. The mediastinal and hilar contours are unremarkable. Moderate cardiomegaly is unchanged.',\n",
       " 'No acute cardiopulmonary process. Bibasilar atelectasis is unchanged. The mediastinal and hilar contours are unremarkable. There is a large hiatal hernia. The lungs are clear. The left hemidiaphragm is enlarged. There is no focal consolidation, effusion, or pneumothorax. No acute osseous abnormality is identified. The aorta is tortuous. The cardiomediastinal silhouette is normal. Moderate cardiomegaly.',\n",
       " 'The mediastinal and hilar contours are unremarkable. There is no focal consolidation, effusion, or pneumothorax. The right hemidiaphragm is hyperinflated. There is no evidence of acute cardiopulmonary process. Upper lungs are hyperinflated. There is no evidence of pulmonary edema. A large hiatal hernia is again noted. No acute osseous abnormality is identified. The aorta is tortuous. Moderate cardiomegaly. No free air below the right hemidiaphragm.',\n",
       " 'In comparison with the study of ___, there is no pneumothorax or pleural effusion. Right upper lobe opacity is unchanged from ___. In comparison with the study of ___, there is increased opacification in the right lower lobe. There is no evidence of pulmonary edema or pneumothorax. There is no pneumothorax. The right internal jugular vein catheter tip is at the level of mid SVC. Heart size is normal.',\n",
       " 'There is no evidence of pulmonary edema or pneumothorax. There is a small right pleural effusion. There is no pneumothorax or pleural effusion. There is no pulmonary edema. Mediastinal contours are unremarkable. Moderate cardiomegaly is unchanged.',\n",
       " 'The lungs are clear without focal consolidation, effusion, or pneumothorax. No acute cardiopulmonary process. The mediastinal and hilar contours appear within normal limits. There is no pleural effusion or pneumothorax. There are no acute osseous abnormalities. The cardiac and mediastinal silhouettes are unremarkable. The cardiomediastinal silhouette is normal. No free air below the right hemidiaphragm is seen.',\n",
       " 'The lungs are clear without focal consolidation, effusion, or pneumothorax. No acute cardiopulmonary process. The mediastinal and hilar contours appear within normal limits. There is no pleural effusion or pneumothorax. No free air below the right hemidiaphragm is seen. The cardiomediastinal silhouette and hilar contours are normal. There are no acute osseous abnormalities. The cardiac and mediastinal silhouettes are unremarkable.',\n",
       " 'The lungs are clear. There is no pleural effusion or pneumothorax. No acute cardiopulmonary process. Mediastinal and hilar contours are unremarkable. There is mild bibasilar atelectasis. There are no acute osseous abnormalities. The cardiomediastinal silhouette is within normal limits. No free air below the right hemidiaphragm is seen.',\n",
       " 'There is no pleural effusion or pneumothorax. No acute cardiopulmonary process. The mediastinal and hilar contours are unremarkable. The lungs are clear. There is mild bibasilar atelectasis. There is no pulmonary edema. There are no acute osseous abnormalities. The cardiomediastinal silhouette is within normal limits.',\n",
       " 'In comparison with the study of ___, there is no change in the extent of the right pleural effusion or pneumothorax. Small right apical pneumothorax is unchanged. There is no pneumothorax or pleural effusion. Bibasilar atelectasis is unchanged. There is no pulmonary edema. The cardiomediastinal silhouette is normal. Heart size is normal. No free air below the right hemidiaphragm.',\n",
       " 'The lungs are clear. There is mild bibasilar atelectasis. There is mild pulmonary edema. There is no pneumothorax or pleural effusion. In comparison with the study of ___, there is increased opacification in the left lower lobe consistent with pulmonary edema. There are no acute osseous abnormalities. The cardiomediastinal silhouette is within normal limits. Mediastinal and hilar contours are unremarkable. Heart size is normal.',\n",
       " 'No acute cardiopulmonary process. The lungs are clear without focal consolidation, effusion, or pneumothorax. The cardiomediastinal silhouette and hilar contours are normal. There are no acute osseous abnormalities. Heart size is normal.',\n",
       " 'There is no pleural effusion or pneumothorax. No acute cardiopulmonary process. Bibasilar atelectasis is unchanged. The mediastinal and hilar contours are unremarkable. There are no acute osseous abnormalities. The cardiomediastinal silhouette is within normal limits. The heart is mildly enlarged.',\n",
       " 'There is no pneumothorax. Right lower lobe atelectasis is unchanged. Bibasilar atelectasis is unchanged. There is mild pulmonary edema. Endotracheal tube terminates approximately 4.5 cm above the carina. The right internal jugular vein catheter tip is at the level of the cavoatrial junction. The tip of the endotracheal tube is at the level of the superior vena cava. Moderate cardiomegaly persists.',\n",
       " 'The lungs are clear. No acute cardiopulmonary process. There is no pleural effusion or pneumothorax. Bibasilar atelectasis is noted. The cardiomediastinal silhouette and hilar contours are normal. There are no acute osseous abnormalities. Right-sided Port-A-Cath terminates in the low SVC. No free air below the right hemidiaphragm is seen.',\n",
       " 'There is no pleural effusion or pneumothorax. No acute cardiopulmonary process. There is mild bibasilar atelectasis. There are no acute osseous abnormalities. The aorta is tortuous. The mediastinal and hilar contours are unremarkable. The cardiomediastinal silhouette is normal. No free air below the right hemidiaphragm is seen.',\n",
       " 'The lungs are clear. There is no pleural effusion or pneumothorax. No acute cardiopulmonary process. The mediastinal and hilar contours appear within normal limits. There are no acute osseous abnormalities. The cardiomediastinal silhouette is normal. No free air below the right hemidiaphragm is seen.',\n",
       " 'No acute cardiopulmonary process. There is mild bibasilar atelectasis. There is no pulmonary edema. There is no pneumothorax or pleural effusion. In comparison with the study of ___, there is increased opacity in the left lower lobe, consistent with pulmonary edema. Moderate cardiomegaly and mild pulmonary edema. In comparison with the study of ___, there is a slight increase in the size of the left hemidiaphragm. There are no acute osseous abnormalities. The cardiomediastinal silhouette is within normal limits. Heart size is mildly enlarged. No free air below the right hemidiaphragm is seen.',\n",
       " 'Right lower lobe atelectasis is unchanged. Bibasilar atelectasis is unchanged. There is no evidence of pulmonary edema or pneumothorax. The right hemidiaphragm is normal. There is no pneumothorax or pleural effusion. In comparison with the study of ___, there is a slight elevation of the left hemidiaphragm. The cardiomediastinal silhouette is normal. A nasogastric tube is seen coursing below the diaphragm.',\n",
       " 'As compared to the previous radiograph, there has been a decrease in the size of the right pleural effusion. There is mild pulmonary vascular redistribution and mild pulmonary vascular redistribution. In comparison with the study of ___, there is increased opacification in the right upper lobe. Bilateral pleural effusions are present. There is mild pulmonary edema. There is no pneumothorax or pleural effusion. Bibasilar atelectasis is unchanged. There are no acute osseous abnormalities. The mediastinal and hilar contours are unremarkable. Moderate cardiomegaly is stable.',\n",
       " 'There is no pneumothorax. There is mild pulmonary edema. No pleural effusions. Moderate cardiomegaly and mild pulmonary edema are unchanged. Moderate left pleural effusion and moderate left retrocardiac atelectasis. Endotracheal tube terminates 4.5 cm above the carina. In comparison with the study of ___, there has been interval placement of a nasogastric tube with the tip in the stomach. The mediastinal and hilar contours are normal. Moderate cardiomegaly persists. NG tube tip is in the stomach.',\n",
       " 'The lungs are clear. No pleural effusion or pneumothorax is seen. No acute cardiopulmonary process. There is mild bibasilar atelectasis. There are no acute osseous abnormalities. The cardiac and mediastinal silhouettes are unremarkable. The cardiomediastinal silhouette is within normal limits.',\n",
       " 'No acute cardiopulmonary process. The right upper lobe opacity is again noted. Right upper lobe pneumonia. There is no pneumothorax or pleural effusion. Mediastinal and hilar contours are unremarkable. There is mild bibasilar atelectasis. There are no acute osseous abnormalities. The aorta is tortuous. The cardiomediastinal silhouette is within normal limits.',\n",
       " 'There is no evidence of pneumothorax. Right upper lobe opacities are unchanged. There is a small right pleural effusion and a small right pleural effusion. There is no pneumothorax or pneumomediastinum. The lungs are clear. No acute cardiopulmonary process. Left lower lobe atelectasis is unchanged. Linear opacities in the left lower lobe are concerning for pneumonia. There is no focal consolidation, effusion, or pneumothorax. There are no acute osseous abnormalities. The cardiomediastinal silhouette is within normal limits.',\n",
       " 'There is no pneumothorax or pleural effusion. There is mild bibasilar atelectasis. There is mild pulmonary edema. Left lower lobe atelectasis is unchanged. Endotracheal tube terminates approximately 4.5 cm above the carina. The nasogastric tube tip is in the stomach. The cardiomediastinal silhouette is within normal limits. Right subclavian line ends in the mid SVC. Moderate cardiomegaly. NG tube tip is in the stomach.',\n",
       " 'Upper lungs are clear. In comparison with the study of ___, there is increased opacity in the right upper lobe. Bibasilar atelectasis is unchanged. There is no pulmonary edema. There is no evidence of acute cardiopulmonary disease. There is no pneumothorax or pleural effusion. There are no acute osseous abnormalities. The cardiomediastinal silhouette is unremarkable. The mediastinal and hilar contours are unremarkable. Moderate cardiomegaly. No free air below the right hemidiaphragm is seen.',\n",
       " 'The lungs are clear. There is no pleural effusion or pneumothorax. No acute cardiopulmonary process. There is mild bibasilar atelectasis. The mediastinal and hilar contours are unremarkable. There are no acute osseous abnormalities. The cardiomediastinal silhouette is within normal limits. No free air below the right hemidiaphragm is seen.',\n",
       " 'There is no pneumothorax or pleural effusion. The mediastinal and hilar contours are normal. Bibasilar atelectasis is unchanged. There is no pulmonary edema. No pneumothorax or pneumomediastinum. There is no evidence of acute cardiopulmonary process. The cardiomediastinal silhouette is within normal limits. Moderate cardiomegaly persists. Left-sided pacemaker leads terminate in the right atrium and right ventricle.',\n",
       " 'The lungs are clear. No acute cardiopulmonary process. The mediastinal and hilar contours appear within normal limits. There is no pleural effusion or pneumothorax. There are no acute osseous abnormalities. The cardiomediastinal silhouette is normal.',\n",
       " 'There is no pneumothorax. Moderate right pleural effusion and moderate right lower lobe atelectasis are unchanged. There is mild pulmonary edema. In comparison with the study of ___, there is a small left pleural effusion. Moderate cardiomegaly and mild pulmonary edema are unchanged. The endotracheal tube terminates approximately 4 cm above the carina. The Swan-Ganz catheter tip is in the right atrium. Right PICC tip is at the level of mid SVC. NG tube tip is in the stomach.',\n",
       " 'The lungs are clear. No acute cardiopulmonary process. There is no pleural effusion or pneumothorax. The mediastinal and hilar contours are unremarkable. There are no acute osseous abnormalities. The cardiomediastinal silhouette is within normal limits. Right-sided Port-A-Cath terminates in the low SVC.',\n",
       " 'There is no pleural effusion or pneumothorax. No acute cardiopulmonary process. The mediastinal and hilar contours are unremarkable. There are no acute osseous abnormalities. Moderate cardiomegaly. Transvenous right atrial and right ventricular pacer leads terminate in the right atrium and right ventricle.',\n",
       " 'No acute cardiopulmonary process. There is mild bibasilar atelectasis. The mediastinal and hilar contours are unremarkable. There is no pneumothorax or pleural effusion. Moderate left lower lobe atelectasis is unchanged. There is no pulmonary edema. The cardiomediastinal silhouette is within normal limits. Moderate cardiomegaly. No free air below the right hemidiaphragm.',\n",
       " 'There is no pleural effusion or pneumothorax. No acute cardiopulmonary process. The cardiomediastinal silhouette and hilar contours are normal. There are no acute osseous abnormalities. The cardiac and mediastinal silhouettes are unremarkable.',\n",
       " 'The lungs are clear. There is no pleural effusion or pneumothorax. No acute cardiopulmonary process. There is mild bibasilar atelectasis. Pulmonary vasculature is normal. There are no acute osseous abnormalities. The cardiomediastinal silhouette is within normal limits.',\n",
       " 'There is no pulmonary edema. There is no pneumothorax or pleural effusion. There is mild bibasilar atelectasis. The mediastinal and hilar contours are unremarkable. Moderate cardiomegaly.',\n",
       " 'No acute cardiopulmonary process. Right upper lobe pneumonia. The lungs are hyperinflated and hyperinflated. The lungs are clear without focal consolidation, effusion, or pneumothorax. The mediastinal and hilar contours appear within normal limits. There are no acute osseous abnormalities. The cardiomediastinal silhouette is normal. No acute intrathoracic process. The cardiac and mediastinal silhouettes are unremarkable. No free air below the right hemidiaphragm is seen.',\n",
       " 'No acute cardiopulmonary process. There is mild bibasilar atelectasis. There is no focal consolidation, effusion, or pneumothorax. The lungs are hyperinflated and hyperinflated. Linear opacities in the left lower lobe are consistent with atelectasis. There are no acute osseous abnormalities. The cardiomediastinal silhouette is within normal limits. No free air below the right hemidiaphragm is seen.',\n",
       " 'As compared to the previous radiograph, there has been a decrease in the extent of the right pleural effusion. There is no pneumothorax. Moderate right pleural effusion and right basilar atelectasis are unchanged. Mild pulmonary edema has improved. Right internal jugular central venous catheter tip is at the level of cavoatrial junction. The tip of the endotracheal tube projects approximately 4 cm above the carina. Moderate cardiomegaly persists. NG tube tip is in the stomach.',\n",
       " 'There is no pleural effusion or pneumothorax. No acute cardiopulmonary process. There is mild bibasilar atelectasis. There is mild pulmonary edema. There are no acute osseous abnormalities. The mediastinal and hilar contours are unremarkable. Moderate cardiomegaly is unchanged.',\n",
       " 'There is no focal consolidation, effusion, or pneumothorax. There is no pneumothorax. Left lower lobe atelectasis is unchanged. Moderate cardiomegaly with bibasilar atelectasis. There is mild pulmonary edema. There are no acute osseous abnormalities. Right internal jugular central venous catheter tip is at the level of cavoatrial junction. Moderate cardiomegaly persists. Left-sided pacemaker leads terminate in the right atrium and right ventricle.',\n",
       " 'Bilateral pleural effusions and right lower lobe consolidation are unchanged. There is no pneumothorax or pleural effusion. Moderate cardiomegaly and bibasilar atelectasis are unchanged. There is no pulmonary edema. Right internal jugular line ends in the mid SVC. Moderate cardiomegaly.',\n",
       " 'The lungs are clear. There is no pleural effusion or pneumothorax. No acute cardiopulmonary process. There is mild bibasilar atelectasis. The cardiomediastinal silhouette and hilar contours are normal. No free air below the right hemidiaphragm is seen. There are no acute osseous abnormalities. The cardiac and mediastinal silhouettes are unremarkable.',\n",
       " 'There is no pleural effusion or pneumothorax. No acute cardiopulmonary process. The cardiomediastinal silhouette and hilar contours are normal. The lungs are clear. Left lower lobe consolidation is unchanged. There is mild bibasilar atelectasis. There are no acute osseous abnormalities.',\n",
       " 'There is no pulmonary edema. There is no pleural effusion or pneumothorax. Left lower lobe atelectasis is unchanged. There is no evidence of pneumothorax or pneumomediastinum. The cardiomediastinal silhouette is normal. There is no evidence of acute cardiopulmonary process.',\n",
       " 'There is no pneumothorax or pleural effusion. The right hemidiaphragm and right ventricular apex are unchanged. There is no pulmonary edema. Left lower lobe atelectasis is unchanged. Bibasilar atelectasis is unchanged. There is no evidence of pneumothorax. Moderate cardiomegaly is unchanged. Left-sided pacemaker leads terminate in the right atrium and right ventricle.',\n",
       " 'There is no pleural effusion or pneumothorax. No acute cardiopulmonary process. There is mild bibasilar atelectasis. The mediastinal and hilar contours are unremarkable. There are no acute osseous abnormalities. The cardiomediastinal silhouette is within normal limits. The heart is mildly enlarged.',\n",
       " 'There is no pneumothorax or pleural effusion. In comparison with the study of ___, there is increased opacification in the right lower lobe consistent with pulmonary edema. There is mild pulmonary edema. There is mild bibasilar atelectasis. The mediastinal and hilar contours are unremarkable. Moderate cardiomegaly. No free air below the diaphragm.',\n",
       " 'There is no pneumothorax. Bibasilar atelectasis is unchanged. Moderate cardiomegaly and mild pulmonary edema are unchanged. Left lower lobe atelectasis is unchanged. The tip of the endotracheal tube projects approximately 4 cm above the carina. In comparison with the study of ___, there is no evidence of pneumothorax. The cardiomediastinal silhouette is unremarkable. Moderate cardiomegaly persists. NG tube tip is in the stomach.',\n",
       " 'No acute cardiopulmonary process. There is mild bibasilar atelectasis. There is mild pulmonary edema. There is no pneumothorax or pleural effusion. Left lower lobe atelectasis is unchanged. There are no acute osseous abnormalities. The mediastinal and hilar contours are unremarkable. Moderate cardiomegaly is unchanged.',\n",
       " 'Moderate right pleural effusion is unchanged. Moderate cardiomegaly and mild pulmonary edema are unchanged. Bibasilar atelectasis is unchanged. There is mild pulmonary edema. There is no pleural effusion or pneumothorax. In comparison with the study of ___, there has been placement of a nasogastric tube with tip in the stomach. Right subclavian line ends in the mid SVC. No free air below the right hemidiaphragm.',\n",
       " 'No acute cardiopulmonary process. There is mild bibasilar atelectasis. No free air below the right hemidiaphragm is seen. The mediastinal and hilar contours are unremarkable. There is no focal consolidation, effusion, or pneumothorax. There are no acute osseous abnormalities. The cardiomediastinal silhouette is within normal limits.',\n",
       " 'There is no evidence of pulmonary edema. There is no pleural effusion or pneumothorax. Upper lungs are clear. Left lower lobe collapse is unchanged. Bibasilar atelectasis is unchanged. The cardiomediastinal silhouette is normal. The mediastinal and hilar contours are unremarkable. Right subclavian line ends in the mid SVC. Heart size is normal.',\n",
       " 'There is no pleural effusion or pneumothorax. No acute cardiopulmonary process. The lungs are hyperinflated and hyperinflated. Mediastinal and hilar contours are unremarkable. The lungs are clear. There is mild bibasilar atelectasis. There are no acute osseous abnormalities. The cardiomediastinal silhouette is within normal limits.',\n",
       " 'No acute cardiopulmonary process. The lungs are hyperinflated and hyperinflated. There is no evidence of pneumonia, pleural effusion or pneumothorax. No free air below the right hemidiaphragm is seen. The cardiomediastinal silhouette and hilar contours are normal. There are no acute osseous abnormalities.',\n",
       " 'There is no pleural effusion or pneumothorax. The cardiomediastinal silhouette and hilar contours are normal. The lungs are clear. There is mild bibasilar atelectasis. The mediastinal and hilar contours are unremarkable. No acute osseous abnormalities.',\n",
       " 'The lungs are clear without focal consolidation, effusion, or pneumothorax. No acute cardiopulmonary process. The mediastinal and hilar contours appear within normal limits. There is no pleural effusion or pneumothorax. No free air below the right hemidiaphragm is seen. There are no acute osseous abnormalities. The cardiomediastinal silhouette is within normal limits.',\n",
       " 'There is mild bibasilar atelectasis. There is no evidence of pulmonary edema. The lungs are clear. There is no pleural effusion or pneumothorax. The mediastinal and hilar contours are normal. There are no acute osseous abnormalities. The cardiomediastinal silhouette is within normal limits. The tip of the endotracheal tube projects approximately 4 cm above the carina. The heart size is normal. No free air below the right hemidiaphragm is seen.',\n",
       " 'There is no pleural effusion or pneumothorax. No acute cardiopulmonary process. There is mild bibasilar atelectasis. There is mild pulmonary edema. There are no acute osseous abnormalities. The cardiomediastinal silhouette is within normal limits. Moderate cardiomegaly is unchanged.',\n",
       " 'The lungs are clear. There is no pleural effusion or pneumothorax. No acute cardiopulmonary process. There is mild bibasilar atelectasis. The mediastinal and hilar contours are unremarkable. There are no acute osseous abnormalities. The aorta is tortuous. The cardiomediastinal silhouette is within normal limits.',\n",
       " 'The lungs are clear. There is no pleural effusion or pneumothorax. No acute cardiopulmonary process. There is mild bibasilar atelectasis. The cardiomediastinal and hilar contours are normal. The lungs are clear without focal consolidation, effusion, or pneumothorax. There are no acute osseous abnormalities. No free air below the right hemidiaphragm is seen.',\n",
       " 'There is no pleural effusion or pneumothorax. No acute cardiopulmonary process. Right lower lobe pneumonia is unchanged. There is mild bibasilar atelectasis. The mediastinal and hilar contours are unremarkable. There are no acute osseous abnormalities. The aorta is tortuous. The cardiomediastinal silhouette is within normal limits.',\n",
       " 'The lungs are hyperinflated and hyperinflated. There is no evidence of pneumothorax or pleural effusion. In comparison with the study of ___, there is increased opacity in the right lower lobe, which may reflect atelectasis. The mediastinal and hilar contours are unremarkable. No free air below the right hemidiaphragm is seen. There is no evidence of acute cardiopulmonary process. Left lower lobe consolidation is consistent with pneumonia. There is mild left lower lobe atelectasis. There is no pulmonary edema or pneumothorax. There are no acute osseous abnormalities. Atherosclerotic calcifications are noted at the aortic arch. The cardiomediastinal silhouette is normal.',\n",
       " 'There is no pleural effusion or pneumothorax. No acute cardiopulmonary process. The mediastinal and hilar contours appear within normal limits. No free air below the right hemidiaphragm is seen. The lungs are clear without focal consolidation, effusion, or pneumothorax. There is mild bibasilar atelectasis. There are no acute osseous abnormalities. The cardiomediastinal silhouette is within normal limits. The cardiac and mediastinal silhouettes are unremarkable.',\n",
       " 'The lungs are clear without focal consolidation, effusion, or pneumothorax. No acute cardiopulmonary process. The cardiomediastinal silhouette and hilar contours are normal. There is no pleural effusion or pneumothorax. There are no acute osseous abnormalities. No free air below the right hemidiaphragm is seen.',\n",
       " 'As compared to the previous radiograph, there has been a decrease in the size of the right pleural effusion. In comparison with the study of ___, there is increased opacity in the right upper lobe and right lower lobe. There is no pulmonary edema. There is no pleural effusion or pneumothorax. No acute cardiopulmonary process. There is mild bibasilar atelectasis. There are no acute osseous abnormalities. The cardiomediastinal silhouette is within normal limits. Heart size is normal.',\n",
       " 'The lungs are clear without focal consolidation, effusion, or pneumothorax. No acute cardiopulmonary process. Pulmonary vasculature is normal. There is no pleural effusion or pneumothorax. The mediastinal and hilar contours are unremarkable. There are no acute osseous abnormalities. The cardiomediastinal silhouette is within normal limits. No free air below the right hemidiaphragm is seen.',\n",
       " 'Bilateral pleural effusions and right lower lobe atelectasis are unchanged. There is no pulmonary edema. There is no pleural effusion or pneumothorax. No acute cardiopulmonary process. There is mild bibasilar atelectasis. There are no acute osseous abnormalities. The aorta is tortuous. The cardiomediastinal silhouette is unremarkable. The mediastinal and hilar contours are unremarkable. Moderate cardiomegaly.',\n",
       " 'No acute cardiopulmonary process. The lungs are clear. The mediastinal and hilar contours are unremarkable. There is no focal consolidation, effusion, or pneumothorax. There are no acute osseous abnormalities. The cardiomediastinal silhouette is within normal limits. Heart size is normal.',\n",
       " 'There is no evidence of acute cardiopulmonary disease. There is mild bibasilar atelectasis. There is no pleural effusion or pneumothorax. The cardiomediastinal silhouette is within normal limits. Moderate cardiomegaly.',\n",
       " 'No acute cardiopulmonary process. There is mild bibasilar atelectasis. The mediastinal and hilar contours are unremarkable. There is no focal consolidation, effusion, or pneumothorax. The lungs are clear. There are no acute osseous abnormalities. The aorta is tortuous. The cardiomediastinal silhouette is within normal limits. No free air below the right hemidiaphragm is seen.',\n",
       " 'There is no pleural effusion or pneumothorax. No acute cardiopulmonary process. There is mild bibasilar atelectasis. The mediastinal and hilar contours are unremarkable. The lungs are clear. There are no acute osseous abnormalities. The cardiomediastinal silhouette is within normal limits.',\n",
       " 'No acute cardiopulmonary process. There is mild bibasilar atelectasis. There is no pulmonary edema. Left lower lobe atelectasis is unchanged. The mediastinal and hilar contours are normal. There is no focal consolidation, effusion, or pneumothorax. The aorta is tortuous. The cardiomediastinal silhouette is within normal limits. Heart size is mildly enlarged.',\n",
       " 'The lungs are clear without focal consolidation, effusion, or pneumothorax. No acute cardiopulmonary process. The mediastinal and hilar contours appear within normal limits. There is no pleural effusion or pneumothorax. The lungs are clear. The cardiomediastinal silhouette and hilar contours are normal. There are no acute osseous abnormalities. The aorta is tortuous. No acute intrathoracic process. No free air below the right hemidiaphragm is seen.',\n",
       " 'The lungs are clear without focal consolidation, effusion, or pneumothorax. No acute cardiopulmonary process. Pulmonary vasculature is normal. No free air below the right hemidiaphragm is seen. The mediastinal and hilar contours are unremarkable. There is no pleural effusion or pneumothorax. There are no acute osseous abnormalities. The cardiomediastinal silhouette is within normal limits.',\n",
       " 'In comparison with the study of ___, there is a small right pleural effusion. There is no evidence of pneumothorax. Right lower lobe pneumonia is unchanged. There is no evidence of pulmonary edema. There is no pneumothorax or pleural effusion. The cardiomediastinal silhouette is normal. Right subclavian line ends in the mid SVC.',\n",
       " 'The lungs are clear. There is no pleural effusion or pneumothorax. No acute cardiopulmonary process. There is no evidence of pulmonary edema or pneumothorax. There is mild bibasilar atelectasis. The mediastinal and hilar contours are unremarkable. Left lower lobe pneumonia is unchanged. The cardiomediastinal and hilar contours are normal. There are no acute osseous abnormalities.',\n",
       " 'There is no pneumothorax or pleural effusion. There is mild pulmonary edema. There is no evidence of acute cardiopulmonary process. There are no acute osseous abnormalities. The aorta is tortuous. Moderate cardiomegaly and tortuosity of the thoracic aorta. Moderate cardiomegaly is unchanged.',\n",
       " 'The lungs are clear. The cardiomediastinal silhouette and hilar contours are normal. There is no focal consolidation, effusion, or pneumothorax. There is mild bibasilar atelectasis. There are no acute osseous abnormalities. Heart size is normal. No acute cardiopulmonary abnormality.',\n",
       " 'There is no pneumothorax or pleural effusion. There is no pulmonary edema. Left lower lobe atelectasis is unchanged. There is mild bibasilar atelectasis. Endotracheal tube terminates approximately 4 cm above the carina. The right internal jugular line tip is at the level of cavoatrial junction. The cardiomediastinal silhouette is normal. Moderate cardiomegaly. No free air below the right hemidiaphragm.',\n",
       " 'In comparison with the study of ___, the right pleural effusion has decreased in size. There is no pneumothorax. Moderate right pleural effusion and moderate right lower lobe atelectasis are unchanged. There is no pulmonary edema. Right internal jugular central venous catheter tip is at the level of cavoatrial junction. Right IJ catheter tip is at the level of mid SVC. Moderate cardiomegaly persists.',\n",
       " 'The lungs are clear without focal consolidation, effusion, or pneumothorax. The mediastinal and hilar contours are unremarkable. There is no pleural effusion or pneumothorax. There are no acute osseous abnormalities. No acute cardiopulmonary abnormality. The cardiomediastinal silhouette is within normal limits. No free air below the right hemidiaphragm is seen.',\n",
       " 'No acute cardiopulmonary process. There is mild bibasilar atelectasis. The lungs are hyperinflated and hyperinflated. In comparison with the study of ___, there is increased opacity in the right upper lobe, consistent with pneumonia. The mediastinal and hilar contours are unremarkable. There is no focal consolidation, effusion, or pneumothorax. There are no acute osseous abnormalities. The aorta is tortuous. The cardiomediastinal silhouette is normal.',\n",
       " 'There is no pneumothorax or pneumomediastinum. In comparison with the study of ___, the left lower lobe atelectasis has improved. Moderate left pleural effusion and moderate left retrocardiac atelectasis. There is no evidence of pulmonary edema or pneumothorax. In comparison with the study of ___, there has been interval placement of a nasogastric tube. The mediastinal and hilar contours are normal. The tip of the endotracheal tube projects approximately 4 cm above the carina. Moderate cardiomegaly. NG tube tip is in the stomach.',\n",
       " 'No acute cardiopulmonary process. There is mild bibasilar atelectasis. There is no pulmonary edema. There is no pneumothorax or pleural effusion. Moderate left pleural effusion and moderate left lower lobe atelectasis are unchanged. There are no acute osseous abnormalities. Mediastinal contours are unremarkable. Moderate cardiomegaly.',\n",
       " 'There is no pleural effusion or pneumothorax. No acute cardiopulmonary process. The mediastinal and hilar contours appear within normal limits. The lungs are clear. Linear opacity in the left mid lung is concerning for pneumonia. In comparison with the study of ___, there is no evidence of pneumothorax or pleural effusion. The cardiomediastinal silhouette and hilar contours are normal. There are no acute osseous abnormalities. No free air below the right hemidiaphragm is seen.',\n",
       " 'No acute cardiopulmonary process. There is mild bibasilar atelectasis. There is no pneumothorax or pleural effusion. There is mild pulmonary vascular congestion. There are no acute osseous abnormalities. The aorta is tortuous. The cardiomediastinal silhouette is within normal limits. The mediastinal and hilar contours are unremarkable.',\n",
       " 'There is no pleural effusion or pneumothorax. No acute cardiopulmonary process. There is mild pulmonary vascular congestion. In comparison with the study of ___, there is increased opacification in the right lower lobe consistent with pulmonary edema. There is mild bibasilar atelectasis. Mild pulmonary edema. The lungs are hyperinflated and hyperinflated. There are no acute osseous abnormalities. The mediastinal and hilar contours are unremarkable. Moderate cardiomegaly with mild pulmonary vascular congestion.',\n",
       " 'Right lower lobe collapse is unchanged. There is no pneumothorax or pleural effusion. Moderate cardiomegaly is unchanged. There is no pulmonary edema. There are no acute osseous abnormalities. Moderate cardiomegaly and tortuosity of the thoracic aorta.',\n",
       " 'There is no pneumothorax or pleural effusion. There is no pulmonary edema. Right internal jugular central venous catheter tip is at the level of cavoatrial junction. The cardiomediastinal silhouette is normal. Moderate cardiomegaly. Left-sided pacemaker leads terminate in the right atrium and right ventricle.',\n",
       " 'There is no pleural effusion or pneumothorax. There is no pulmonary edema. The lungs are clear. No acute cardiopulmonary process. The lungs are hyperinflated and hyperinflated. There is mild bibasilar atelectasis. There are no acute osseous abnormalities. The aorta is tortuous. The mediastinal and hilar contours are unremarkable. Moderate cardiomegaly is unchanged.',\n",
       " 'The lungs are clear without focal consolidation, effusion, or pneumothorax. No acute cardiopulmonary process. The mediastinal and hilar contours appear within normal limits. There is no pleural effusion or pneumothorax. The lungs are clear. There are no acute osseous abnormalities. The cardiac and mediastinal silhouettes are unremarkable. The cardiomediastinal silhouette is normal. No free air below the right hemidiaphragm is seen.']"
      ]
     },
     "execution_count": 66,
     "metadata": {},
     "output_type": "execute_result"
    }
   ],
   "source": [
    "predictions"
   ]
  },
  {
   "cell_type": "code",
   "execution_count": 70,
   "id": "2d9ca9c9-c4b3-4615-bd73-a0dedc52850e",
   "metadata": {},
   "outputs": [
    {
     "name": "stderr",
     "output_type": "stream",
     "text": [
      "[INFO]: Using default tokenizer.\n"
     ]
    },
    {
     "data": {
      "text/plain": [
       "{'rouge1': 0.346463494134467,\n",
       " 'rouge2': 0.13622509093055463,\n",
       " 'rougeL': 0.2060864108410731,\n",
       " 'rougeLsum': 0.20635480794145408}"
      ]
     },
     "execution_count": 70,
     "metadata": {},
     "output_type": "execute_result"
    }
   ],
   "source": [
    "rouge = evaluate.load(\"rouge\")\n",
    "\n",
    "results = rouge.compute(predictions=predictions,\n",
    "                        references=references)\n",
    "\n",
    "results"
   ]
  },
  {
   "cell_type": "code",
   "execution_count": 71,
   "id": "cbe31c20-1ef2-4877-b21f-709454568c3f",
   "metadata": {},
   "outputs": [
    {
     "data": {
      "text/plain": [
       "{'bleu': 0.061934602481411825,\n",
       " 'precisions': [0.47310126582278483,\n",
       "  0.2022508038585209,\n",
       "  0.1022875816993464,\n",
       "  0.050996677740863784],\n",
       " 'brevity_penalty': 0.4143630909566283,\n",
       " 'length_ratio': 0.531628532974428,\n",
       " 'translation_length': 6320,\n",
       " 'reference_length': 11888}"
      ]
     },
     "execution_count": 71,
     "metadata": {},
     "output_type": "execute_result"
    }
   ],
   "source": [
    "bleu = evaluate.load(\"bleu\")\n",
    "\n",
    "results = bleu.compute(predictions=predictions,\n",
    "                        references=references)\n",
    "\n",
    "results"
   ]
  },
  {
   "cell_type": "code",
   "execution_count": null,
   "id": "01f44645-53c6-49fe-8525-224779a8f635",
   "metadata": {},
   "outputs": [],
   "source": []
  }
 ],
 "metadata": {
  "kernelspec": {
   "display_name": "Python 3 (ipykernel)",
   "language": "python",
   "name": "python3"
  },
  "language_info": {
   "codemirror_mode": {
    "name": "ipython",
    "version": 3
   },
   "file_extension": ".py",
   "mimetype": "text/x-python",
   "name": "python",
   "nbconvert_exporter": "python",
   "pygments_lexer": "ipython3",
   "version": "3.9.12"
  }
 },
 "nbformat": 4,
 "nbformat_minor": 5
}
